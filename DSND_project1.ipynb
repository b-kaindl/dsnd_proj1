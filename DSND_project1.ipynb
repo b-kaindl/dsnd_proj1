{
 "cells": [
  {
   "cell_type": "code",
   "execution_count": null,
   "metadata": {},
   "outputs": [],
   "source": [
    "#data wrangling\n",
    "import numpy as np\n",
    "import pandas as pd\n",
    "import datetime\n",
    "\n",
    "#plotting\n",
    "import seaborn as sns\n",
    "import matplotlib as mpl\n",
    "import matplotlib.pyplot as plt\n",
    "%matplotlib inline\n",
    "\n",
    "#ML libraries\n",
    "#TODO: Sort out which ones we really need\n",
    "from sklearn.linear_model import LinearRegression\n",
    "from sklearn.model_selection import train_test_split\n",
    "from sklearn.metrics import r2_score, mean_squared_error\n",
    "\n",
    "#other utilities\n",
    "import os"
   ]
  },
  {
   "cell_type": "code",
   "execution_count": null,
   "metadata": {},
   "outputs": [],
   "source": [
    "data_dir = os.fsencode('./data/')"
   ]
  },
  {
   "cell_type": "code",
   "execution_count": null,
   "metadata": {},
   "outputs": [],
   "source": [
    "#read in he CSV files containing the data\n",
    "#TODO: Abstract and build as function for util_pkg\n",
    "df_dict = {}\n",
    "for filename in os.listdir(data_dir):\n",
    "    filepath_str = str(os.fsdecode(os.path.join(data_dir,filename)))\n",
    "    df_name_str = str(os.fsdecode(os.path.splitext(filename)[0]))\n",
    "    df_dict[df_name_str] = pd.read_csv(filepath_str, sep = '\\t')\n",
    "    print(df_name_str)\n",
    "    "
   ]
  },
  {
   "cell_type": "code",
   "execution_count": null,
   "metadata": {},
   "outputs": [],
   "source": [
    "#get an overview of the data we just pulled and drop unnecessary ones\n",
    "for df in df_dict:\n",
    "    print(df)\n",
    "    print(df_dict[df].shape)\n",
    "    display(df_dict[df].head())"
   ]
  },
  {
   "cell_type": "code",
   "execution_count": null,
   "metadata": {},
   "outputs": [],
   "source": [
    "def check_null_cols(df_dict):\n",
    "    #TODO: write a docstring\n",
    "    \n",
    "    for df in df_dict:\n",
    "        print(df)\n",
    "        display(pd.DataFrame((np.sum(df_dict[df].isnull())/df_dict[df].shape[0])))\n",
    "\n",
    "check_null_cols(df_dict)"
   ]
  },
  {
   "cell_type": "code",
   "execution_count": null,
   "metadata": {},
   "outputs": [],
   "source": [
    "# drop tags from course-meta... too many nulls\n",
    "# TODO: also drop entries from course and course meta with catch < max(catch)\n",
    "# for the others just drop rows missing value\n",
    "\n",
    "course_meta_df = df_dict['course-meta'].\\\n",
    "                    drop(columns = ['tag', 'catch']).\\\n",
    "                    dropna(subset = ['firstClear'], axis = 0).\\\n",
    "                    drop_duplicates()\n",
    "\n",
    "course_df = df_dict['courses'].\\\n",
    "                drop(columns = ['thumbnail', 'image', 'title']).\\\n",
    "                dropna(subset = ['maker'], axis = 0).\\\n",
    "                drop_duplicates()\n",
    "\n",
    "course_complete_df = course_meta_df.merge(course_df, on = 'id')\n",
    "\n",
    "players_df = df_dict['players'].drop(columns = ['image', 'name']).\\\n",
    "                rename(columns= {'id' : 'player_id'}).\\\n",
    "                drop_duplicates()\n",
    "\n",
    "players_df"
   ]
  },
  {
   "cell_type": "code",
   "execution_count": null,
   "metadata": {},
   "outputs": [],
   "source": [
    "df_dict['course-meta'].sort_values('id')"
   ]
  },
  {
   "cell_type": "code",
   "execution_count": null,
   "metadata": {},
   "outputs": [],
   "source": [
    "#get player flags\n",
    "course_complete_df = course_complete_df.merge(players_df,\n",
    "                                             how = 'left',\n",
    "                                             left_on = 'maker',\n",
    "                                             right_on = 'player_id')\n",
    "\n",
    "print(course_complete_df.shape)\n",
    "print(course_complete_df.columns)"
   ]
  },
  {
   "cell_type": "code",
   "execution_count": null,
   "metadata": {},
   "outputs": [],
   "source": [
    "course_complete_df.head()"
   ]
  },
  {
   "cell_type": "code",
   "execution_count": null,
   "metadata": {},
   "outputs": [],
   "source": [
    "country_counts = course_complete_df.flag.value_counts()\n",
    "difficulty_counts = course_complete_df.difficulty.value_counts() "
   ]
  },
  {
   "cell_type": "code",
   "execution_count": null,
   "metadata": {},
   "outputs": [],
   "source": [
    "(country_counts/course_complete_df.shape[0]).sort_values().plot(kind = 'bar')\n",
    "plt.title(\"Share of Levels Created by Country\");"
   ]
  },
  {
   "cell_type": "code",
   "execution_count": null,
   "metadata": {},
   "outputs": [],
   "source": [
    "(difficulty_counts/course_complete_df.shape[0]).sort_values().plot(kind = 'bar')\n",
    "plt.title(\"Share of Levels Created by Difficulty\");"
   ]
  },
  {
   "cell_type": "code",
   "execution_count": null,
   "metadata": {},
   "outputs": [],
   "source": [
    "print(course_complete_df.creation.max(), course_complete_df.creation.min())"
   ]
  },
  {
   "cell_type": "code",
   "execution_count": null,
   "metadata": {},
   "outputs": [],
   "source": [
    "course_complete_df.flag.unique()"
   ]
  },
  {
   "cell_type": "code",
   "execution_count": null,
   "metadata": {},
   "outputs": [],
   "source": [
    "players_df.flag.unique()"
   ]
  },
  {
   "cell_type": "code",
   "execution_count": null,
   "metadata": {},
   "outputs": [],
   "source": [
    "#extract number of courses created and add as extra column\n",
    "\n",
    "\n",
    "course_complete_df.courses_by_maker = course_complete_df.groupby('maker').transform('count')\n",
    "\n",
    "course_complete_df['creation'] = pd.to_datetime(course_complete_df.creation)\n",
    "\n",
    "course_complete_df['normalized_age'] = (course_complete_df.creation - course_complete_df.creation.min()).dt.days"
   ]
  },
  {
   "cell_type": "raw",
   "metadata": {},
   "source": [
    "(course_complete_df.creation - course_complete_df.creation.min()).dt.days"
   ]
  },
  {
   "cell_type": "code",
   "execution_count": null,
   "metadata": {},
   "outputs": [],
   "source": [
    "# print(course_complete_df.shape)\n",
    "course_complete_df.drop_duplicates().head()"
   ]
  },
  {
   "cell_type": "code",
   "execution_count": null,
   "metadata": {},
   "outputs": [],
   "source": [
    "course_clean_df = course_complete_df.unique().drop(columns = \n",
    "                ['firstClear', 'id', 'maker', 'player_id', 'clears', 'creation'])\n",
    "\n",
    "# also drop clears... the info is not needed as we have \n",
    "# clears = attempts*(clearRate/100)\n",
    "\n",
    "# we're dropping maker here although it might be useful...\n",
    "# use somewhere else in analysis\n",
    "# we should also extract creation in a meaningful way.\n",
    "\n",
    "course_clean_df.head()"
   ]
  },
  {
   "cell_type": "code",
   "execution_count": null,
   "metadata": {},
   "outputs": [],
   "source": []
  },
  {
   "cell_type": "code",
   "execution_count": null,
   "metadata": {},
   "outputs": [],
   "source": []
  },
  {
   "cell_type": "code",
   "execution_count": null,
   "metadata": {},
   "outputs": [],
   "source": []
  }
 ],
 "metadata": {
  "kernelspec": {
   "display_name": "Python 3",
   "language": "python",
   "name": "python3"
  },
  "language_info": {
   "codemirror_mode": {
    "name": "ipython",
    "version": 3
   },
   "file_extension": ".py",
   "mimetype": "text/x-python",
   "name": "python",
   "nbconvert_exporter": "python",
   "pygments_lexer": "ipython3",
   "version": "3.7.5"
  }
 },
 "nbformat": 4,
 "nbformat_minor": 4
}
