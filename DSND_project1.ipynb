{
 "cells": [
  {
   "cell_type": "code",
   "execution_count": null,
   "metadata": {},
   "outputs": [],
   "source": [
    "#data wrangling\n",
    "import numpy as np\n",
    "import pandas as pd\n",
    "import datetime\n",
    "\n",
    "#plotting\n",
    "import seaborn as sns\n",
    "import matplotlib as mpl\n",
    "import matplotlib.pyplot as plt\n",
    "%matplotlib inline\n",
    "\n",
    "#ML libraries\n",
    "#TODO: Sort out which ones we really need\n",
    "from sklearn.linear_model import LinearRegression\n",
    "from sklearn.model_selection import train_test_split\n",
    "from sklearn.metrics import r2_score, mean_squared_error\n",
    "\n",
    "#other utilities\n",
    "import os"
   ]
  },
  {
   "cell_type": "code",
   "execution_count": null,
   "metadata": {},
   "outputs": [],
   "source": [
    "data_dir = os.fsencode('./data/')"
   ]
  },
  {
   "cell_type": "code",
   "execution_count": null,
   "metadata": {},
   "outputs": [],
   "source": [
    "#read in he CSV files containing the data\n",
    "#TODO: Abstract and build as function for util_pkg\n",
    "df_dict = {}\n",
    "for filename in os.listdir(data_dir):\n",
    "    filepath_str = str(os.fsdecode(os.path.join(data_dir,filename)))\n",
    "    df_name_str = str(os.fsdecode(os.path.splitext(filename)[0]))\n",
    "    df_dict[df_name_str] = pd.read_csv(filepath_str, sep = '\\t')\n",
    "    print(df_name_str)\n",
    "    "
   ]
  },
  {
   "cell_type": "code",
   "execution_count": null,
   "metadata": {},
   "outputs": [],
   "source": [
    "#get an overview of the data we just pulled and drop unnecessary ones\n",
    "for df in df_dict:\n",
    "    print(df)\n",
    "    print(df_dict[df].shape)\n",
    "    display(df_dict[df].head())"
   ]
  },
  {
   "cell_type": "code",
   "execution_count": null,
   "metadata": {},
   "outputs": [],
   "source": [
    "def check_null_cols(df_dict):\n",
    "    #TODO: write a docstring\n",
    "    \n",
    "    for df in df_dict:\n",
    "        print(df)\n",
    "        display(pd.DataFrame((np.sum(df_dict[df].isnull())/df_dict[df].shape[0])))\n",
    "\n",
    "check_null_cols(df_dict)"
   ]
  },
  {
   "cell_type": "code",
   "execution_count": null,
   "metadata": {},
   "outputs": [],
   "source": [
    "# drop tags from course-meta... too many nulls\n",
    "# TODO: also drop entries from course and course meta with catch < max(catch)\n",
    "# for the others just drop rows missing value\n",
    "\n",
    "# to drop:\n",
    "#  - all earlier entries of a course - we only want the most recent one\n",
    "#      solution from : https://stackoverflow.com/a/51820845\n",
    "#  - columns we won't need thereafter\n",
    "#  - potentially remaining duplicates\n",
    "course_meta_df = df_dict['course-meta'].\\\n",
    "                    sort_values(by = ['id', 'catch']).\\\n",
    "                    drop_duplicates(subset=['id'], keep = 'last').\\\n",
    "                    drop(columns = ['tag', 'catch']).\\\n",
    "                    dropna(subset = ['firstClear'], axis = 0).\\\n",
    "                    drop_duplicates()\n",
    "\n",
    "course_df = df_dict['courses'].\\\n",
    "                drop(columns = ['thumbnail', 'image', 'title']).\\\n",
    "                dropna(subset = ['maker'], axis = 0).\\\n",
    "                drop_duplicates()\n",
    "\n",
    "course_complete_df = course_meta_df.merge(course_df, on = 'id')\n",
    "\n",
    "players_df = df_dict['players'].drop(columns = ['image', 'name']).\\\n",
    "                rename(columns= {'id' : 'player_id'}).\\\n",
    "                drop_duplicates()\n",
    "\n"
   ]
  },
  {
   "cell_type": "code",
   "execution_count": null,
   "metadata": {},
   "outputs": [],
   "source": [
    "# # group_test =\\\n",
    "# course_meta_df.loc[\n",
    "#     course_meta_df.catch == course_meta_df.catch.max()].index"
   ]
  },
  {
   "cell_type": "code",
   "execution_count": null,
   "metadata": {},
   "outputs": [],
   "source": [
    "# df_dict['course-meta'].sort_values(['id', 'catch'])\\\n",
    "#         #.drop_duplicates(subset = ['id'], keep = 'last')"
   ]
  },
  {
   "cell_type": "code",
   "execution_count": null,
   "metadata": {},
   "outputs": [],
   "source": [
    "#get player flags\n",
    "course_complete_df = course_complete_df.merge(players_df,\n",
    "                                             how = 'left',\n",
    "                                             left_on = 'maker',\n",
    "                                             right_on = 'player_id')\n",
    "\n",
    "print(course_complete_df.shape)\n",
    "print(course_complete_df.columns)"
   ]
  },
  {
   "cell_type": "code",
   "execution_count": null,
   "metadata": {},
   "outputs": [],
   "source": [
    "course_complete_df.head()"
   ]
  },
  {
   "cell_type": "code",
   "execution_count": null,
   "metadata": {},
   "outputs": [],
   "source": [
    "country_counts = course_complete_df.flag.value_counts()\n",
    "difficulty_counts = course_complete_df.difficulty.value_counts() "
   ]
  },
  {
   "cell_type": "code",
   "execution_count": null,
   "metadata": {},
   "outputs": [],
   "source": [
    "(country_counts/course_complete_df.shape[0]).sort_values().plot(kind = 'bar')\n",
    "plt.title(\"Share of Levels Created by Country\");"
   ]
  },
  {
   "cell_type": "code",
   "execution_count": null,
   "metadata": {},
   "outputs": [],
   "source": [
    "(difficulty_counts/course_complete_df.shape[0]).sort_values().plot(kind = 'bar')\n",
    "plt.title(\"Share of Levels Created by Difficulty\");"
   ]
  },
  {
   "cell_type": "code",
   "execution_count": null,
   "metadata": {},
   "outputs": [],
   "source": [
    "print(course_complete_df.creation.max(), course_complete_df.creation.min())"
   ]
  },
  {
   "cell_type": "code",
   "execution_count": null,
   "metadata": {},
   "outputs": [],
   "source": [
    "course_complete_df.flag.unique()"
   ]
  },
  {
   "cell_type": "code",
   "execution_count": null,
   "metadata": {},
   "outputs": [],
   "source": [
    "players_df.flag.unique()"
   ]
  },
  {
   "cell_type": "code",
   "execution_count": null,
   "metadata": {},
   "outputs": [],
   "source": [
    "# extract number of courses created and add as extra column\n",
    "course_complete_df['courses_by_maker'] = course_complete_df.groupby('maker').transform('count').id\n",
    "\n",
    "# operationalize age of course relative to earliest date in df in days\n",
    "course_complete_df['creation'] = pd.to_datetime(course_complete_df.creation)\n",
    "course_complete_df['normalized_age'] = (course_complete_df.creation - course_complete_df.creation.min()).dt.days"
   ]
  },
  {
   "cell_type": "code",
   "execution_count": null,
   "metadata": {},
   "outputs": [],
   "source": [
    "course_clean_df = course_complete_df.drop(columns = \n",
    "                ['firstClear', 'id', 'maker', 'player_id', 'clears', 'creation'])\n",
    "\n",
    "# also drop clears... the info is not needed as we have \n",
    "# clears = attempts*(clearRate/100)\n",
    "\n",
    "# we're dropping maker here although it might be useful...\n",
    "# use somewhere else in analysis\n",
    "# we should also extract creation in a meaningful way.\n",
    "course_clean_df.head()"
   ]
  },
  {
   "cell_type": "code",
   "execution_count": null,
   "metadata": {},
   "outputs": [],
   "source": [
    "# split columns into num_ and cat_\n",
    "\n",
    "cat_cols = ['difficulty', 'gameStyle', 'flag']\n",
    "num_cols = [col for col in course_clean_df.columns if col not in cat_cols]\n",
    "# gives the right result and doesnt require us to split the df"
   ]
  },
  {
   "cell_type": "code",
   "execution_count": null,
   "metadata": {},
   "outputs": [],
   "source": [
    "#taken from lectures\n",
    "def get_dummy_df(df, cat_cols, dummy_na=True):\n",
    "    '''\n",
    "    INPUT:\n",
    "    df - pandas dataframe with categorical variables you want to dummy\n",
    "    cat_cols - list of strings that are associated with names of the categorical columns\n",
    "    dummy_na - Bool holding whether you want to dummy NA vals of categorical columns or not\n",
    "    \n",
    "    OUTPUT:\n",
    "    df - a new dataframe that has the following characteristics:\n",
    "            1. contains all columns that were not specified as categorical\n",
    "            2. removes all the original columns in cat_cols\n",
    "            3. dummy columns for each of the categorical columns in cat_cols\n",
    "            4. if dummy_na is True - it also contains dummy columns for the NaN values\n",
    "            5. Use a prefix of the column name with an underscore (_) for separating \n",
    "    '''\n",
    "    \n",
    "    for column in cat_cols:\n",
    "        \n",
    "        try:\n",
    "            df = pd.concat([df.drop(column, axis = 1), pd.get_dummies(df[column], dummy_na=dummy_na, prefix = column, \n",
    "                                                                     prefix_sep = \"_\", drop_first = True)], axis = 1)\n",
    "        except:\n",
    "            continue\n",
    "            \n",
    "    return df\n",
    "            \n",
    "\n",
    "    "
   ]
  },
  {
   "cell_type": "code",
   "execution_count": null,
   "metadata": {},
   "outputs": [],
   "source": [
    "course_final_df = get_dummy_df(course_clean_df, cat_cols, False) # already checked, there are no NaNs left\n",
    "course_final_df.head()"
   ]
  },
  {
   "cell_type": "code",
   "execution_count": null,
   "metadata": {},
   "outputs": [],
   "source": [
    "# prepare for linreg\n",
    "\n",
    "y_stars = course_final_df.stars\n",
    "y_tweets = course_final_df.tweets\n",
    "\n",
    "X_stars = course_final_df.drop(columns = ['stars'])\n",
    "X_tweets = course_final_df.drop(columns = ['tweets'])\n",
    "\n",
    "X_stars_train, X_stars_test, y_stars_train, y_stars_test = train_test_split(X_stars, y_stars, \n",
    "                                                                            test_size = .33, random_state = 23)\n",
    "\n",
    "X_tweets_train, X_tweets_test, y_tweets_train, y_tweets_test = train_test_split(X_tweets, y_tweets, \n",
    "                                                                            test_size = .33, random_state = 23)\n",
    "\n",
    "lm_stars = LinearRegression().fit(X_stars_train,y_stars_train)\n",
    "lm_tweets = LinearRegression().fit(X_tweets_train,y_tweets_train)\n",
    "\n",
    "y_stars_train_preds = lm_stars.predict(X_stars_train)\n",
    "y_stars_test_preds = lm_stars.predict(X_stars_test)\n",
    "\n",
    "y_tweets_train_preds = lm_tweets.predict(X_tweets_train)\n",
    "y_tweets_test_preds = lm_tweets.predict(X_tweets_test)\n",
    "\n",
    "train_score_stars = r2_score(y_stars_train, y_stars_train_preds)\n",
    "test_score_stars = r2_score(y_stars_test, y_stars_test_preds)\n",
    "\n",
    "train_score_tweets = r2_score(y_tweets_train, y_tweets_train_preds)\n",
    "test_score_tweets = r2_score(y_tweets_test, y_tweets_test_preds)"
   ]
  },
  {
   "cell_type": "code",
   "execution_count": null,
   "metadata": {},
   "outputs": [],
   "source": [
    "out = \\\n",
    "'R2 Training (Stars): \\t' + str(train_score_stars) + '\\n' +\\\n",
    "'R2 Testing (Stars): \\t' + str(test_score_stars) + '\\n' +\\\n",
    "'R2 Training (Tweets): \\t' + str(train_score_tweets) + '\\n' +\\\n",
    "'R2 Testing (Tweets): \\t' + str(test_score_tweets) + '\\n'"
   ]
  },
  {
   "cell_type": "code",
   "execution_count": null,
   "metadata": {},
   "outputs": [],
   "source": [
    "print(out)"
   ]
  },
  {
   "cell_type": "code",
   "execution_count": null,
   "metadata": {},
   "outputs": [],
   "source": [
    "print(lm_stars.coef_)\n",
    "print(lm_tweets.coef_)"
   ]
  },
  {
   "cell_type": "code",
   "execution_count": null,
   "metadata": {},
   "outputs": [],
   "source": [
    "def coef_weights(model, coefficients, X_train):\n",
    "    '''\n",
    "    INPUT:\n",
    "    coefficients - the coefficients of the linear model \n",
    "    X_train - the training data, so the column names can be used\n",
    "    OUTPUT:\n",
    "    coefs_df - a dataframe holding the coefficient, estimate, and abs(estimate)\n",
    "    \n",
    "    Provides a dataframe that can be used to understand the most influential coefficients\n",
    "    in a linear model by providing the coefficient estimates along with the name of the \n",
    "    variable attached to the coefficient.\n",
    "    '''\n",
    "    coefs_df = pd.DataFrame()\n",
    "    coefs_df['est_int'] = X_train.columns\n",
    "    coefs_df['coefs'] = model.coef_\n",
    "    coefs_df['abs_coefs'] = np.abs(model.coef_)\n",
    "    coefs_df = coefs_df.sort_values('abs_coefs', ascending=False)\n",
    "    return coefs_df\n"
   ]
  },
  {
   "cell_type": "code",
   "execution_count": null,
   "metadata": {},
   "outputs": [],
   "source": [
    "#Use the function\n",
    "coef_stars_df = coef_weights(lm_stars, lm_stars.coef_, X_stars_train)\n",
    "\n",
    "#A quick look at the top results\n",
    "coef_stars_df.head(20)"
   ]
  },
  {
   "cell_type": "code",
   "execution_count": null,
   "metadata": {},
   "outputs": [],
   "source": [
    "coef_tweets_df = coef_weights(lm_tweets, lm_tweets.coef_, X_tweets_train)\n",
    "\n",
    "#A quick look at the top results\n",
    "coef_tweets_df.head(20)"
   ]
  },
  {
   "cell_type": "code",
   "execution_count": null,
   "metadata": {},
   "outputs": [],
   "source": [
    "course_clean_df.gameStyle.unique()"
   ]
  }
 ],
 "metadata": {
  "kernelspec": {
   "display_name": "Python 3",
   "language": "python",
   "name": "python3"
  },
  "language_info": {
   "codemirror_mode": {
    "name": "ipython",
    "version": 3
   },
   "file_extension": ".py",
   "mimetype": "text/x-python",
   "name": "python",
   "nbconvert_exporter": "python",
   "pygments_lexer": "ipython3",
   "version": "3.8.0"
  }
 },
 "nbformat": 4,
 "nbformat_minor": 4
}
