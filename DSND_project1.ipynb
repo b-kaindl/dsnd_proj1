{
 "cells": [
  {
   "cell_type": "markdown",
   "metadata": {},
   "source": [
    "# How to make your Levels in Mario Maker Popular?"
   ]
  },
  {
   "cell_type": "markdown",
   "metadata": {},
   "source": [
    "## Wrangling, Cleaning, and Preliminary Look at Data"
   ]
  },
  {
   "cell_type": "code",
   "execution_count": 1,
   "metadata": {},
   "outputs": [],
   "source": [
    "#data wrangling\n",
    "import numpy as np\n",
    "import pandas as pd\n",
    "import datetime\n",
    "\n",
    "#plotting\n",
    "import seaborn as sns\n",
    "import matplotlib as mpl\n",
    "import matplotlib.pyplot as plt\n",
    "%matplotlib inline\n",
    "\n",
    "#ML libraries\n",
    "#TODO: Sort out which ones we really need\n",
    "from sklearn.linear_model import LinearRegression\n",
    "from sklearn.model_selection import train_test_split\n",
    "from sklearn.metrics import r2_score, mean_squared_error\n",
    "\n",
    "#other utilities\n",
    "import os"
   ]
  },
  {
   "cell_type": "markdown",
   "metadata": {},
   "source": [
    "We got the data in normalized CSVs from the [SMMNet](https://www.kaggle.com/leomauro/smmnet) dataset on Kaggle.\n",
    "First, we want to read in the data and have a quick glance at what the separate tables look like."
   ]
  },
  {
   "cell_type": "code",
   "execution_count": 2,
   "metadata": {},
   "outputs": [],
   "source": [
    "data_dir = os.fsencode('./data/')"
   ]
  },
  {
   "cell_type": "code",
   "execution_count": 3,
   "metadata": {},
   "outputs": [
    {
     "name": "stdout",
     "output_type": "stream",
     "text": [
      "plays\n",
      "players\n",
      "courses\n",
      "records\n",
      "clears\n",
      "likes\n",
      "course-meta\n"
     ]
    }
   ],
   "source": [
    "#read in he CSV files containing the data\n",
    "#TODO: Abstract and build as function for util_pkg\n",
    "df_dict = {}\n",
    "for filename in os.listdir(data_dir):\n",
    "    filepath_str = str(os.fsdecode(os.path.join(data_dir,filename)))\n",
    "    df_name_str = str(os.fsdecode(os.path.splitext(filename)[0]))\n",
    "    df_dict[df_name_str] = pd.read_csv(filepath_str, sep = '\\t')\n",
    "    print(df_name_str)"
   ]
  },
  {
   "cell_type": "code",
   "execution_count": 4,
   "metadata": {},
   "outputs": [
    {
     "name": "stdout",
     "output_type": "stream",
     "text": [
      "plays\n",
      "(3941378, 3)\n"
     ]
    },
    {
     "data": {
      "text/html": [
       "<div>\n",
       "<style scoped>\n",
       "    .dataframe tbody tr th:only-of-type {\n",
       "        vertical-align: middle;\n",
       "    }\n",
       "\n",
       "    .dataframe tbody tr th {\n",
       "        vertical-align: top;\n",
       "    }\n",
       "\n",
       "    .dataframe thead th {\n",
       "        text-align: right;\n",
       "    }\n",
       "</style>\n",
       "<table border=\"1\" class=\"dataframe\">\n",
       "  <thead>\n",
       "    <tr style=\"text-align: right;\">\n",
       "      <th></th>\n",
       "      <th>catch</th>\n",
       "      <th>id</th>\n",
       "      <th>player</th>\n",
       "    </tr>\n",
       "  </thead>\n",
       "  <tbody>\n",
       "    <tr>\n",
       "      <td>0</td>\n",
       "      <td>2018-02-23 15:22:44.015</td>\n",
       "      <td>0000-0000-0353-3D35</td>\n",
       "      <td>darter60k</td>\n",
       "    </tr>\n",
       "    <tr>\n",
       "      <td>1</td>\n",
       "      <td>2018-02-23 15:22:44.015</td>\n",
       "      <td>0000-0000-0353-3D35</td>\n",
       "      <td>davidchofis</td>\n",
       "    </tr>\n",
       "    <tr>\n",
       "      <td>2</td>\n",
       "      <td>2018-02-23 15:22:44.015</td>\n",
       "      <td>0000-0000-0353-3D35</td>\n",
       "      <td>fabioviana</td>\n",
       "    </tr>\n",
       "    <tr>\n",
       "      <td>3</td>\n",
       "      <td>2018-02-23 15:22:44.015</td>\n",
       "      <td>0000-0000-0353-3D35</td>\n",
       "      <td>gorigokky</td>\n",
       "    </tr>\n",
       "    <tr>\n",
       "      <td>4</td>\n",
       "      <td>2018-02-23 15:22:44.015</td>\n",
       "      <td>0000-0000-0353-3D35</td>\n",
       "      <td>groebenzell</td>\n",
       "    </tr>\n",
       "  </tbody>\n",
       "</table>\n",
       "</div>"
      ],
      "text/plain": [
       "                     catch                   id       player\n",
       "0  2018-02-23 15:22:44.015  0000-0000-0353-3D35    darter60k\n",
       "1  2018-02-23 15:22:44.015  0000-0000-0353-3D35  davidchofis\n",
       "2  2018-02-23 15:22:44.015  0000-0000-0353-3D35   fabioviana\n",
       "3  2018-02-23 15:22:44.015  0000-0000-0353-3D35    gorigokky\n",
       "4  2018-02-23 15:22:44.015  0000-0000-0353-3D35  groebenzell"
      ]
     },
     "metadata": {},
     "output_type": "display_data"
    },
    {
     "name": "stdout",
     "output_type": "stream",
     "text": [
      "players\n",
      "(884302, 4)\n"
     ]
    },
    {
     "data": {
      "text/html": [
       "<div>\n",
       "<style scoped>\n",
       "    .dataframe tbody tr th:only-of-type {\n",
       "        vertical-align: middle;\n",
       "    }\n",
       "\n",
       "    .dataframe tbody tr th {\n",
       "        vertical-align: top;\n",
       "    }\n",
       "\n",
       "    .dataframe thead th {\n",
       "        text-align: right;\n",
       "    }\n",
       "</style>\n",
       "<table border=\"1\" class=\"dataframe\">\n",
       "  <thead>\n",
       "    <tr style=\"text-align: right;\">\n",
       "      <th></th>\n",
       "      <th>id</th>\n",
       "      <th>image</th>\n",
       "      <th>flag</th>\n",
       "      <th>name</th>\n",
       "    </tr>\n",
       "  </thead>\n",
       "  <tbody>\n",
       "    <tr>\n",
       "      <td>0</td>\n",
       "      <td>NolramImpro</td>\n",
       "      <td>http://mii-images.cdn.nintendo.net/3nhht3y6sjm...</td>\n",
       "      <td>BR</td>\n",
       "      <td>Nolram</td>\n",
       "    </tr>\n",
       "    <tr>\n",
       "      <td>1</td>\n",
       "      <td>SGK2017</td>\n",
       "      <td>http://mii-images.cdn.nintendo.net/4bxo1rny12r...</td>\n",
       "      <td>JP</td>\n",
       "      <td>しげ</td>\n",
       "    </tr>\n",
       "    <tr>\n",
       "      <td>2</td>\n",
       "      <td>preamstrikbiz0</td>\n",
       "      <td>http://mii-images.cdn.nintendo.net/2i0nphr806h...</td>\n",
       "      <td>US</td>\n",
       "      <td>primo</td>\n",
       "    </tr>\n",
       "    <tr>\n",
       "      <td>3</td>\n",
       "      <td>gotatari</td>\n",
       "      <td>http://mii-images.cdn.nintendo.net/2dvhs41zz7y...</td>\n",
       "      <td>JP</td>\n",
       "      <td>たくと</td>\n",
       "    </tr>\n",
       "    <tr>\n",
       "      <td>4</td>\n",
       "      <td>skrufpanda</td>\n",
       "      <td>http://mii-images.cdn.nintendo.net/2n2gr4n7oxg...</td>\n",
       "      <td>NO</td>\n",
       "      <td>pinkachuz</td>\n",
       "    </tr>\n",
       "  </tbody>\n",
       "</table>\n",
       "</div>"
      ],
      "text/plain": [
       "               id                                              image flag  \\\n",
       "0     NolramImpro  http://mii-images.cdn.nintendo.net/3nhht3y6sjm...   BR   \n",
       "1         SGK2017  http://mii-images.cdn.nintendo.net/4bxo1rny12r...   JP   \n",
       "2  preamstrikbiz0  http://mii-images.cdn.nintendo.net/2i0nphr806h...   US   \n",
       "3        gotatari  http://mii-images.cdn.nintendo.net/2dvhs41zz7y...   JP   \n",
       "4      skrufpanda  http://mii-images.cdn.nintendo.net/2n2gr4n7oxg...   NO   \n",
       "\n",
       "        name  \n",
       "0     Nolram  \n",
       "1         しげ  \n",
       "2      primo  \n",
       "3        たくと  \n",
       "4  pinkachuz  "
      ]
     },
     "metadata": {},
     "output_type": "display_data"
    },
    {
     "name": "stdout",
     "output_type": "stream",
     "text": [
      "courses\n",
      "(115032, 8)\n"
     ]
    },
    {
     "data": {
      "text/html": [
       "<div>\n",
       "<style scoped>\n",
       "    .dataframe tbody tr th:only-of-type {\n",
       "        vertical-align: middle;\n",
       "    }\n",
       "\n",
       "    .dataframe tbody tr th {\n",
       "        vertical-align: top;\n",
       "    }\n",
       "\n",
       "    .dataframe thead th {\n",
       "        text-align: right;\n",
       "    }\n",
       "</style>\n",
       "<table border=\"1\" class=\"dataframe\">\n",
       "  <thead>\n",
       "    <tr style=\"text-align: right;\">\n",
       "      <th></th>\n",
       "      <th>id</th>\n",
       "      <th>difficulty</th>\n",
       "      <th>gameStyle</th>\n",
       "      <th>maker</th>\n",
       "      <th>title</th>\n",
       "      <th>thumbnail</th>\n",
       "      <th>image</th>\n",
       "      <th>creation</th>\n",
       "    </tr>\n",
       "  </thead>\n",
       "  <tbody>\n",
       "    <tr>\n",
       "      <td>0</td>\n",
       "      <td>079D-0000-0351-17E2</td>\n",
       "      <td>expert</td>\n",
       "      <td>marioBros3</td>\n",
       "      <td>NolramImpro</td>\n",
       "      <td>Apocalipse 14:12</td>\n",
       "      <td>https://dypqnhofrd2x2.cloudfront.net/079D-0000...</td>\n",
       "      <td>https://dypqnhofrd2x2.cloudfront.net/079D-0000...</td>\n",
       "      <td>2017-08-11 00:00:00</td>\n",
       "    </tr>\n",
       "    <tr>\n",
       "      <td>1</td>\n",
       "      <td>07CD-0000-030D-EA60</td>\n",
       "      <td>expert</td>\n",
       "      <td>marioBrosU</td>\n",
       "      <td>igorsssa</td>\n",
       "      <td>Dangerous Ship Fantasy</td>\n",
       "      <td>https://dypqnhofrd2x2.cloudfront.net/07CD-0000...</td>\n",
       "      <td>https://dypqnhofrd2x2.cloudfront.net/07CD-0000...</td>\n",
       "      <td>2017-03-11 00:00:00</td>\n",
       "    </tr>\n",
       "    <tr>\n",
       "      <td>2</td>\n",
       "      <td>07F7-0000-030F-A51B</td>\n",
       "      <td>superExpert</td>\n",
       "      <td>marioWorld</td>\n",
       "      <td>Wiggle133</td>\n",
       "      <td>Pow-Ing (Speedrun) (^o^)</td>\n",
       "      <td>https://dypqnhofrd2x2.cloudfront.net/07F7-0000...</td>\n",
       "      <td>https://dypqnhofrd2x2.cloudfront.net/07F7-0000...</td>\n",
       "      <td>2017-03-14 00:00:00</td>\n",
       "    </tr>\n",
       "    <tr>\n",
       "      <td>3</td>\n",
       "      <td>080E-0000-0307-A394</td>\n",
       "      <td>expert</td>\n",
       "      <td>marioBros</td>\n",
       "      <td>vitorotavio</td>\n",
       "      <td>desafios radcore</td>\n",
       "      <td>https://dypqnhofrd2x2.cloudfront.net/080E-0000...</td>\n",
       "      <td>https://dypqnhofrd2x2.cloudfront.net/080E-0000...</td>\n",
       "      <td>2017-02-26 00:00:00</td>\n",
       "    </tr>\n",
       "    <tr>\n",
       "      <td>4</td>\n",
       "      <td>082F-0000-0358-A218</td>\n",
       "      <td>normal</td>\n",
       "      <td>marioBros3</td>\n",
       "      <td>CaptainToad4444</td>\n",
       "      <td>Goodbye Miiverse...</td>\n",
       "      <td>https://dypqnhofrd2x2.cloudfront.net/082F-0000...</td>\n",
       "      <td>https://dypqnhofrd2x2.cloudfront.net/082F-0000...</td>\n",
       "      <td>2017-08-29 00:00:00</td>\n",
       "    </tr>\n",
       "  </tbody>\n",
       "</table>\n",
       "</div>"
      ],
      "text/plain": [
       "                    id   difficulty   gameStyle            maker  \\\n",
       "0  079D-0000-0351-17E2       expert  marioBros3      NolramImpro   \n",
       "1  07CD-0000-030D-EA60       expert  marioBrosU         igorsssa   \n",
       "2  07F7-0000-030F-A51B  superExpert  marioWorld        Wiggle133   \n",
       "3  080E-0000-0307-A394       expert   marioBros      vitorotavio   \n",
       "4  082F-0000-0358-A218       normal  marioBros3  CaptainToad4444   \n",
       "\n",
       "                      title  \\\n",
       "0          Apocalipse 14:12   \n",
       "1    Dangerous Ship Fantasy   \n",
       "2  Pow-Ing (Speedrun) (^o^)   \n",
       "3          desafios radcore   \n",
       "4       Goodbye Miiverse...   \n",
       "\n",
       "                                           thumbnail  \\\n",
       "0  https://dypqnhofrd2x2.cloudfront.net/079D-0000...   \n",
       "1  https://dypqnhofrd2x2.cloudfront.net/07CD-0000...   \n",
       "2  https://dypqnhofrd2x2.cloudfront.net/07F7-0000...   \n",
       "3  https://dypqnhofrd2x2.cloudfront.net/080E-0000...   \n",
       "4  https://dypqnhofrd2x2.cloudfront.net/082F-0000...   \n",
       "\n",
       "                                               image             creation  \n",
       "0  https://dypqnhofrd2x2.cloudfront.net/079D-0000...  2017-08-11 00:00:00  \n",
       "1  https://dypqnhofrd2x2.cloudfront.net/07CD-0000...  2017-03-11 00:00:00  \n",
       "2  https://dypqnhofrd2x2.cloudfront.net/07F7-0000...  2017-03-14 00:00:00  \n",
       "3  https://dypqnhofrd2x2.cloudfront.net/080E-0000...  2017-02-26 00:00:00  \n",
       "4  https://dypqnhofrd2x2.cloudfront.net/082F-0000...  2017-08-29 00:00:00  "
      ]
     },
     "metadata": {},
     "output_type": "display_data"
    },
    {
     "name": "stdout",
     "output_type": "stream",
     "text": [
      "records\n",
      "(117126, 4)\n"
     ]
    },
    {
     "data": {
      "text/html": [
       "<div>\n",
       "<style scoped>\n",
       "    .dataframe tbody tr th:only-of-type {\n",
       "        vertical-align: middle;\n",
       "    }\n",
       "\n",
       "    .dataframe tbody tr th {\n",
       "        vertical-align: top;\n",
       "    }\n",
       "\n",
       "    .dataframe thead th {\n",
       "        text-align: right;\n",
       "    }\n",
       "</style>\n",
       "<table border=\"1\" class=\"dataframe\">\n",
       "  <thead>\n",
       "    <tr style=\"text-align: right;\">\n",
       "      <th></th>\n",
       "      <th>catch</th>\n",
       "      <th>id</th>\n",
       "      <th>player</th>\n",
       "      <th>timeRecord</th>\n",
       "    </tr>\n",
       "  </thead>\n",
       "  <tbody>\n",
       "    <tr>\n",
       "      <td>0</td>\n",
       "      <td>2017-12-18 15:35:29.015</td>\n",
       "      <td>F68A-0000-0337-AF4F</td>\n",
       "      <td>The_Brucican</td>\n",
       "      <td>15482</td>\n",
       "    </tr>\n",
       "    <tr>\n",
       "      <td>1</td>\n",
       "      <td>2018-03-02 10:09:32.392</td>\n",
       "      <td>9669-0000-0330-554C</td>\n",
       "      <td>inoino2226</td>\n",
       "      <td>9265</td>\n",
       "    </tr>\n",
       "    <tr>\n",
       "      <td>2</td>\n",
       "      <td>2017-12-18 15:47:40.665</td>\n",
       "      <td>0D1D-0000-0355-DA7A</td>\n",
       "      <td>hbeeboy</td>\n",
       "      <td>6692</td>\n",
       "    </tr>\n",
       "    <tr>\n",
       "      <td>3</td>\n",
       "      <td>2018-02-23 15:02:20.557</td>\n",
       "      <td>18E3-0000-032A-27AB</td>\n",
       "      <td>Khazey</td>\n",
       "      <td>40383</td>\n",
       "    </tr>\n",
       "    <tr>\n",
       "      <td>4</td>\n",
       "      <td>2018-02-23 15:05:16.414</td>\n",
       "      <td>2C55-0000-0300-854A</td>\n",
       "      <td>okayan3378</td>\n",
       "      <td>1533</td>\n",
       "    </tr>\n",
       "  </tbody>\n",
       "</table>\n",
       "</div>"
      ],
      "text/plain": [
       "                     catch                   id        player  timeRecord\n",
       "0  2017-12-18 15:35:29.015  F68A-0000-0337-AF4F  The_Brucican       15482\n",
       "1  2018-03-02 10:09:32.392  9669-0000-0330-554C    inoino2226        9265\n",
       "2  2017-12-18 15:47:40.665  0D1D-0000-0355-DA7A       hbeeboy        6692\n",
       "3  2018-02-23 15:02:20.557  18E3-0000-032A-27AB        Khazey       40383\n",
       "4  2018-02-23 15:05:16.414  2C55-0000-0300-854A    okayan3378        1533"
      ]
     },
     "metadata": {},
     "output_type": "display_data"
    },
    {
     "name": "stdout",
     "output_type": "stream",
     "text": [
      "clears\n",
      "(2051809, 3)\n"
     ]
    },
    {
     "data": {
      "text/html": [
       "<div>\n",
       "<style scoped>\n",
       "    .dataframe tbody tr th:only-of-type {\n",
       "        vertical-align: middle;\n",
       "    }\n",
       "\n",
       "    .dataframe tbody tr th {\n",
       "        vertical-align: top;\n",
       "    }\n",
       "\n",
       "    .dataframe thead th {\n",
       "        text-align: right;\n",
       "    }\n",
       "</style>\n",
       "<table border=\"1\" class=\"dataframe\">\n",
       "  <thead>\n",
       "    <tr style=\"text-align: right;\">\n",
       "      <th></th>\n",
       "      <th>catch</th>\n",
       "      <th>id</th>\n",
       "      <th>player</th>\n",
       "    </tr>\n",
       "  </thead>\n",
       "  <tbody>\n",
       "    <tr>\n",
       "      <td>0</td>\n",
       "      <td>2018-02-23 15:22:44.015</td>\n",
       "      <td>0000-0000-0353-3D35</td>\n",
       "      <td>darter60k</td>\n",
       "    </tr>\n",
       "    <tr>\n",
       "      <td>1</td>\n",
       "      <td>2018-02-23 15:22:44.015</td>\n",
       "      <td>0000-0000-0353-3D35</td>\n",
       "      <td>davidchofis</td>\n",
       "    </tr>\n",
       "    <tr>\n",
       "      <td>2</td>\n",
       "      <td>2018-02-23 15:22:44.015</td>\n",
       "      <td>0000-0000-0353-3D35</td>\n",
       "      <td>fabioviana</td>\n",
       "    </tr>\n",
       "    <tr>\n",
       "      <td>3</td>\n",
       "      <td>2018-02-23 15:22:44.015</td>\n",
       "      <td>0000-0000-0353-3D35</td>\n",
       "      <td>groebenzell</td>\n",
       "    </tr>\n",
       "    <tr>\n",
       "      <td>4</td>\n",
       "      <td>2018-02-23 15:22:44.015</td>\n",
       "      <td>0000-0000-0353-3D35</td>\n",
       "      <td>igatake0229</td>\n",
       "    </tr>\n",
       "  </tbody>\n",
       "</table>\n",
       "</div>"
      ],
      "text/plain": [
       "                     catch                   id       player\n",
       "0  2018-02-23 15:22:44.015  0000-0000-0353-3D35    darter60k\n",
       "1  2018-02-23 15:22:44.015  0000-0000-0353-3D35  davidchofis\n",
       "2  2018-02-23 15:22:44.015  0000-0000-0353-3D35   fabioviana\n",
       "3  2018-02-23 15:22:44.015  0000-0000-0353-3D35  groebenzell\n",
       "4  2018-02-23 15:22:44.015  0000-0000-0353-3D35  igatake0229"
      ]
     },
     "metadata": {},
     "output_type": "display_data"
    },
    {
     "name": "stdout",
     "output_type": "stream",
     "text": [
      "likes\n",
      "(618687, 3)\n"
     ]
    },
    {
     "data": {
      "text/html": [
       "<div>\n",
       "<style scoped>\n",
       "    .dataframe tbody tr th:only-of-type {\n",
       "        vertical-align: middle;\n",
       "    }\n",
       "\n",
       "    .dataframe tbody tr th {\n",
       "        vertical-align: top;\n",
       "    }\n",
       "\n",
       "    .dataframe thead th {\n",
       "        text-align: right;\n",
       "    }\n",
       "</style>\n",
       "<table border=\"1\" class=\"dataframe\">\n",
       "  <thead>\n",
       "    <tr style=\"text-align: right;\">\n",
       "      <th></th>\n",
       "      <th>catch</th>\n",
       "      <th>id</th>\n",
       "      <th>player</th>\n",
       "    </tr>\n",
       "  </thead>\n",
       "  <tbody>\n",
       "    <tr>\n",
       "      <td>0</td>\n",
       "      <td>2018-02-23 15:22:44.015</td>\n",
       "      <td>0000-0000-0353-3D35</td>\n",
       "      <td>groebenzell</td>\n",
       "    </tr>\n",
       "    <tr>\n",
       "      <td>1</td>\n",
       "      <td>2018-03-02 09:46:27.847</td>\n",
       "      <td>0000-0000-035A-9F14</td>\n",
       "      <td>jlan6e</td>\n",
       "    </tr>\n",
       "    <tr>\n",
       "      <td>2</td>\n",
       "      <td>2017-12-18 14:47:47.489</td>\n",
       "      <td>0001-0000-0347-486A</td>\n",
       "      <td>cat38690</td>\n",
       "    </tr>\n",
       "    <tr>\n",
       "      <td>3</td>\n",
       "      <td>2017-12-18 14:47:47.489</td>\n",
       "      <td>0001-0000-0347-486A</td>\n",
       "      <td>raulcaba</td>\n",
       "    </tr>\n",
       "    <tr>\n",
       "      <td>4</td>\n",
       "      <td>2017-12-18 14:47:48.878</td>\n",
       "      <td>0001-0000-0359-B3CD</td>\n",
       "      <td>Tugaeddy</td>\n",
       "    </tr>\n",
       "  </tbody>\n",
       "</table>\n",
       "</div>"
      ],
      "text/plain": [
       "                     catch                   id       player\n",
       "0  2018-02-23 15:22:44.015  0000-0000-0353-3D35  groebenzell\n",
       "1  2018-03-02 09:46:27.847  0000-0000-035A-9F14       jlan6e\n",
       "2  2017-12-18 14:47:47.489  0001-0000-0347-486A     cat38690\n",
       "3  2017-12-18 14:47:47.489  0001-0000-0347-486A     raulcaba\n",
       "4  2017-12-18 14:47:48.878  0001-0000-0359-B3CD     Tugaeddy"
      ]
     },
     "metadata": {},
     "output_type": "display_data"
    },
    {
     "name": "stdout",
     "output_type": "stream",
     "text": [
      "course-meta\n",
      "(292298, 10)\n"
     ]
    },
    {
     "data": {
      "text/html": [
       "<div>\n",
       "<style scoped>\n",
       "    .dataframe tbody tr th:only-of-type {\n",
       "        vertical-align: middle;\n",
       "    }\n",
       "\n",
       "    .dataframe tbody tr th {\n",
       "        vertical-align: top;\n",
       "    }\n",
       "\n",
       "    .dataframe thead th {\n",
       "        text-align: right;\n",
       "    }\n",
       "</style>\n",
       "<table border=\"1\" class=\"dataframe\">\n",
       "  <thead>\n",
       "    <tr style=\"text-align: right;\">\n",
       "      <th></th>\n",
       "      <th>catch</th>\n",
       "      <th>id</th>\n",
       "      <th>firstClear</th>\n",
       "      <th>tag</th>\n",
       "      <th>stars</th>\n",
       "      <th>players</th>\n",
       "      <th>tweets</th>\n",
       "      <th>clears</th>\n",
       "      <th>attempts</th>\n",
       "      <th>clearRate</th>\n",
       "    </tr>\n",
       "  </thead>\n",
       "  <tbody>\n",
       "    <tr>\n",
       "      <td>0</td>\n",
       "      <td>2017-11-16 14:45:36.703</td>\n",
       "      <td>079D-0000-0351-17E2</td>\n",
       "      <td>SGK2017</td>\n",
       "      <td>NaN</td>\n",
       "      <td>1</td>\n",
       "      <td>16</td>\n",
       "      <td>0</td>\n",
       "      <td>2</td>\n",
       "      <td>58</td>\n",
       "      <td>3.44</td>\n",
       "    </tr>\n",
       "    <tr>\n",
       "      <td>1</td>\n",
       "      <td>2017-11-16 14:45:38.342</td>\n",
       "      <td>07CD-0000-030D-EA60</td>\n",
       "      <td>emerson1312</td>\n",
       "      <td>NaN</td>\n",
       "      <td>1</td>\n",
       "      <td>22</td>\n",
       "      <td>0</td>\n",
       "      <td>2</td>\n",
       "      <td>120</td>\n",
       "      <td>1.66</td>\n",
       "    </tr>\n",
       "    <tr>\n",
       "      <td>2</td>\n",
       "      <td>2017-11-16 14:45:40.259</td>\n",
       "      <td>07F7-0000-030F-A51B</td>\n",
       "      <td>jacobrw420</td>\n",
       "      <td>NaN</td>\n",
       "      <td>9</td>\n",
       "      <td>69</td>\n",
       "      <td>0</td>\n",
       "      <td>7</td>\n",
       "      <td>903</td>\n",
       "      <td>0.77</td>\n",
       "    </tr>\n",
       "    <tr>\n",
       "      <td>3</td>\n",
       "      <td>2017-11-16 14:45:42.023</td>\n",
       "      <td>080E-0000-0307-A394</td>\n",
       "      <td>Alef_Nascimento</td>\n",
       "      <td>NaN</td>\n",
       "      <td>2</td>\n",
       "      <td>27</td>\n",
       "      <td>0</td>\n",
       "      <td>4</td>\n",
       "      <td>93</td>\n",
       "      <td>4.30</td>\n",
       "    </tr>\n",
       "    <tr>\n",
       "      <td>4</td>\n",
       "      <td>2017-11-16 14:45:43.414</td>\n",
       "      <td>082F-0000-0358-A218</td>\n",
       "      <td>Thunder8966</td>\n",
       "      <td>NaN</td>\n",
       "      <td>1</td>\n",
       "      <td>11</td>\n",
       "      <td>0</td>\n",
       "      <td>2</td>\n",
       "      <td>19</td>\n",
       "      <td>10.52</td>\n",
       "    </tr>\n",
       "  </tbody>\n",
       "</table>\n",
       "</div>"
      ],
      "text/plain": [
       "                     catch                   id       firstClear  tag  stars  \\\n",
       "0  2017-11-16 14:45:36.703  079D-0000-0351-17E2          SGK2017  NaN      1   \n",
       "1  2017-11-16 14:45:38.342  07CD-0000-030D-EA60      emerson1312  NaN      1   \n",
       "2  2017-11-16 14:45:40.259  07F7-0000-030F-A51B       jacobrw420  NaN      9   \n",
       "3  2017-11-16 14:45:42.023  080E-0000-0307-A394  Alef_Nascimento  NaN      2   \n",
       "4  2017-11-16 14:45:43.414  082F-0000-0358-A218      Thunder8966  NaN      1   \n",
       "\n",
       "   players  tweets  clears  attempts  clearRate  \n",
       "0       16       0       2        58       3.44  \n",
       "1       22       0       2       120       1.66  \n",
       "2       69       0       7       903       0.77  \n",
       "3       27       0       4        93       4.30  \n",
       "4       11       0       2        19      10.52  "
      ]
     },
     "metadata": {},
     "output_type": "display_data"
    }
   ],
   "source": [
    "#get an overview of the data we just pulled and drop unnecessary ones\n",
    "for df in df_dict:\n",
    "    print(df)\n",
    "    print(df_dict[df].shape)\n",
    "    display(df_dict[df].head())"
   ]
  },
  {
   "cell_type": "markdown",
   "metadata": {},
   "source": [
    "We also want to check for potential `NaN`s in each table"
   ]
  },
  {
   "cell_type": "code",
   "execution_count": 5,
   "metadata": {},
   "outputs": [
    {
     "name": "stdout",
     "output_type": "stream",
     "text": [
      "plays\n"
     ]
    },
    {
     "data": {
      "text/html": [
       "<div>\n",
       "<style scoped>\n",
       "    .dataframe tbody tr th:only-of-type {\n",
       "        vertical-align: middle;\n",
       "    }\n",
       "\n",
       "    .dataframe tbody tr th {\n",
       "        vertical-align: top;\n",
       "    }\n",
       "\n",
       "    .dataframe thead th {\n",
       "        text-align: right;\n",
       "    }\n",
       "</style>\n",
       "<table border=\"1\" class=\"dataframe\">\n",
       "  <thead>\n",
       "    <tr style=\"text-align: right;\">\n",
       "      <th></th>\n",
       "      <th>0</th>\n",
       "    </tr>\n",
       "  </thead>\n",
       "  <tbody>\n",
       "    <tr>\n",
       "      <td>catch</td>\n",
       "      <td>0.0</td>\n",
       "    </tr>\n",
       "    <tr>\n",
       "      <td>id</td>\n",
       "      <td>0.0</td>\n",
       "    </tr>\n",
       "    <tr>\n",
       "      <td>player</td>\n",
       "      <td>0.0</td>\n",
       "    </tr>\n",
       "  </tbody>\n",
       "</table>\n",
       "</div>"
      ],
      "text/plain": [
       "          0\n",
       "catch   0.0\n",
       "id      0.0\n",
       "player  0.0"
      ]
     },
     "metadata": {},
     "output_type": "display_data"
    },
    {
     "name": "stdout",
     "output_type": "stream",
     "text": [
      "players\n"
     ]
    },
    {
     "data": {
      "text/html": [
       "<div>\n",
       "<style scoped>\n",
       "    .dataframe tbody tr th:only-of-type {\n",
       "        vertical-align: middle;\n",
       "    }\n",
       "\n",
       "    .dataframe tbody tr th {\n",
       "        vertical-align: top;\n",
       "    }\n",
       "\n",
       "    .dataframe thead th {\n",
       "        text-align: right;\n",
       "    }\n",
       "</style>\n",
       "<table border=\"1\" class=\"dataframe\">\n",
       "  <thead>\n",
       "    <tr style=\"text-align: right;\">\n",
       "      <th></th>\n",
       "      <th>0</th>\n",
       "    </tr>\n",
       "  </thead>\n",
       "  <tbody>\n",
       "    <tr>\n",
       "      <td>id</td>\n",
       "      <td>0.000000</td>\n",
       "    </tr>\n",
       "    <tr>\n",
       "      <td>image</td>\n",
       "      <td>0.000000</td>\n",
       "    </tr>\n",
       "    <tr>\n",
       "      <td>flag</td>\n",
       "      <td>0.000000</td>\n",
       "    </tr>\n",
       "    <tr>\n",
       "      <td>name</td>\n",
       "      <td>0.000011</td>\n",
       "    </tr>\n",
       "  </tbody>\n",
       "</table>\n",
       "</div>"
      ],
      "text/plain": [
       "              0\n",
       "id     0.000000\n",
       "image  0.000000\n",
       "flag   0.000000\n",
       "name   0.000011"
      ]
     },
     "metadata": {},
     "output_type": "display_data"
    },
    {
     "name": "stdout",
     "output_type": "stream",
     "text": [
      "courses\n"
     ]
    },
    {
     "data": {
      "text/html": [
       "<div>\n",
       "<style scoped>\n",
       "    .dataframe tbody tr th:only-of-type {\n",
       "        vertical-align: middle;\n",
       "    }\n",
       "\n",
       "    .dataframe tbody tr th {\n",
       "        vertical-align: top;\n",
       "    }\n",
       "\n",
       "    .dataframe thead th {\n",
       "        text-align: right;\n",
       "    }\n",
       "</style>\n",
       "<table border=\"1\" class=\"dataframe\">\n",
       "  <thead>\n",
       "    <tr style=\"text-align: right;\">\n",
       "      <th></th>\n",
       "      <th>0</th>\n",
       "    </tr>\n",
       "  </thead>\n",
       "  <tbody>\n",
       "    <tr>\n",
       "      <td>id</td>\n",
       "      <td>0.000000</td>\n",
       "    </tr>\n",
       "    <tr>\n",
       "      <td>difficulty</td>\n",
       "      <td>0.000000</td>\n",
       "    </tr>\n",
       "    <tr>\n",
       "      <td>gameStyle</td>\n",
       "      <td>0.000000</td>\n",
       "    </tr>\n",
       "    <tr>\n",
       "      <td>maker</td>\n",
       "      <td>0.000661</td>\n",
       "    </tr>\n",
       "    <tr>\n",
       "      <td>title</td>\n",
       "      <td>0.000026</td>\n",
       "    </tr>\n",
       "    <tr>\n",
       "      <td>thumbnail</td>\n",
       "      <td>0.000000</td>\n",
       "    </tr>\n",
       "    <tr>\n",
       "      <td>image</td>\n",
       "      <td>0.000000</td>\n",
       "    </tr>\n",
       "    <tr>\n",
       "      <td>creation</td>\n",
       "      <td>0.000000</td>\n",
       "    </tr>\n",
       "  </tbody>\n",
       "</table>\n",
       "</div>"
      ],
      "text/plain": [
       "                   0\n",
       "id          0.000000\n",
       "difficulty  0.000000\n",
       "gameStyle   0.000000\n",
       "maker       0.000661\n",
       "title       0.000026\n",
       "thumbnail   0.000000\n",
       "image       0.000000\n",
       "creation    0.000000"
      ]
     },
     "metadata": {},
     "output_type": "display_data"
    },
    {
     "name": "stdout",
     "output_type": "stream",
     "text": [
      "records\n"
     ]
    },
    {
     "data": {
      "text/html": [
       "<div>\n",
       "<style scoped>\n",
       "    .dataframe tbody tr th:only-of-type {\n",
       "        vertical-align: middle;\n",
       "    }\n",
       "\n",
       "    .dataframe tbody tr th {\n",
       "        vertical-align: top;\n",
       "    }\n",
       "\n",
       "    .dataframe thead th {\n",
       "        text-align: right;\n",
       "    }\n",
       "</style>\n",
       "<table border=\"1\" class=\"dataframe\">\n",
       "  <thead>\n",
       "    <tr style=\"text-align: right;\">\n",
       "      <th></th>\n",
       "      <th>0</th>\n",
       "    </tr>\n",
       "  </thead>\n",
       "  <tbody>\n",
       "    <tr>\n",
       "      <td>catch</td>\n",
       "      <td>0.0</td>\n",
       "    </tr>\n",
       "    <tr>\n",
       "      <td>id</td>\n",
       "      <td>0.0</td>\n",
       "    </tr>\n",
       "    <tr>\n",
       "      <td>player</td>\n",
       "      <td>0.0</td>\n",
       "    </tr>\n",
       "    <tr>\n",
       "      <td>timeRecord</td>\n",
       "      <td>0.0</td>\n",
       "    </tr>\n",
       "  </tbody>\n",
       "</table>\n",
       "</div>"
      ],
      "text/plain": [
       "              0\n",
       "catch       0.0\n",
       "id          0.0\n",
       "player      0.0\n",
       "timeRecord  0.0"
      ]
     },
     "metadata": {},
     "output_type": "display_data"
    },
    {
     "name": "stdout",
     "output_type": "stream",
     "text": [
      "clears\n"
     ]
    },
    {
     "data": {
      "text/html": [
       "<div>\n",
       "<style scoped>\n",
       "    .dataframe tbody tr th:only-of-type {\n",
       "        vertical-align: middle;\n",
       "    }\n",
       "\n",
       "    .dataframe tbody tr th {\n",
       "        vertical-align: top;\n",
       "    }\n",
       "\n",
       "    .dataframe thead th {\n",
       "        text-align: right;\n",
       "    }\n",
       "</style>\n",
       "<table border=\"1\" class=\"dataframe\">\n",
       "  <thead>\n",
       "    <tr style=\"text-align: right;\">\n",
       "      <th></th>\n",
       "      <th>0</th>\n",
       "    </tr>\n",
       "  </thead>\n",
       "  <tbody>\n",
       "    <tr>\n",
       "      <td>catch</td>\n",
       "      <td>0.0</td>\n",
       "    </tr>\n",
       "    <tr>\n",
       "      <td>id</td>\n",
       "      <td>0.0</td>\n",
       "    </tr>\n",
       "    <tr>\n",
       "      <td>player</td>\n",
       "      <td>0.0</td>\n",
       "    </tr>\n",
       "  </tbody>\n",
       "</table>\n",
       "</div>"
      ],
      "text/plain": [
       "          0\n",
       "catch   0.0\n",
       "id      0.0\n",
       "player  0.0"
      ]
     },
     "metadata": {},
     "output_type": "display_data"
    },
    {
     "name": "stdout",
     "output_type": "stream",
     "text": [
      "likes\n"
     ]
    },
    {
     "data": {
      "text/html": [
       "<div>\n",
       "<style scoped>\n",
       "    .dataframe tbody tr th:only-of-type {\n",
       "        vertical-align: middle;\n",
       "    }\n",
       "\n",
       "    .dataframe tbody tr th {\n",
       "        vertical-align: top;\n",
       "    }\n",
       "\n",
       "    .dataframe thead th {\n",
       "        text-align: right;\n",
       "    }\n",
       "</style>\n",
       "<table border=\"1\" class=\"dataframe\">\n",
       "  <thead>\n",
       "    <tr style=\"text-align: right;\">\n",
       "      <th></th>\n",
       "      <th>0</th>\n",
       "    </tr>\n",
       "  </thead>\n",
       "  <tbody>\n",
       "    <tr>\n",
       "      <td>catch</td>\n",
       "      <td>0.0</td>\n",
       "    </tr>\n",
       "    <tr>\n",
       "      <td>id</td>\n",
       "      <td>0.0</td>\n",
       "    </tr>\n",
       "    <tr>\n",
       "      <td>player</td>\n",
       "      <td>0.0</td>\n",
       "    </tr>\n",
       "  </tbody>\n",
       "</table>\n",
       "</div>"
      ],
      "text/plain": [
       "          0\n",
       "catch   0.0\n",
       "id      0.0\n",
       "player  0.0"
      ]
     },
     "metadata": {},
     "output_type": "display_data"
    },
    {
     "name": "stdout",
     "output_type": "stream",
     "text": [
      "course-meta\n"
     ]
    },
    {
     "data": {
      "text/html": [
       "<div>\n",
       "<style scoped>\n",
       "    .dataframe tbody tr th:only-of-type {\n",
       "        vertical-align: middle;\n",
       "    }\n",
       "\n",
       "    .dataframe tbody tr th {\n",
       "        vertical-align: top;\n",
       "    }\n",
       "\n",
       "    .dataframe thead th {\n",
       "        text-align: right;\n",
       "    }\n",
       "</style>\n",
       "<table border=\"1\" class=\"dataframe\">\n",
       "  <thead>\n",
       "    <tr style=\"text-align: right;\">\n",
       "      <th></th>\n",
       "      <th>0</th>\n",
       "    </tr>\n",
       "  </thead>\n",
       "  <tbody>\n",
       "    <tr>\n",
       "      <td>catch</td>\n",
       "      <td>0.000000</td>\n",
       "    </tr>\n",
       "    <tr>\n",
       "      <td>id</td>\n",
       "      <td>0.000000</td>\n",
       "    </tr>\n",
       "    <tr>\n",
       "      <td>firstClear</td>\n",
       "      <td>0.014119</td>\n",
       "    </tr>\n",
       "    <tr>\n",
       "      <td>tag</td>\n",
       "      <td>0.882394</td>\n",
       "    </tr>\n",
       "    <tr>\n",
       "      <td>stars</td>\n",
       "      <td>0.000000</td>\n",
       "    </tr>\n",
       "    <tr>\n",
       "      <td>players</td>\n",
       "      <td>0.000000</td>\n",
       "    </tr>\n",
       "    <tr>\n",
       "      <td>tweets</td>\n",
       "      <td>0.000000</td>\n",
       "    </tr>\n",
       "    <tr>\n",
       "      <td>clears</td>\n",
       "      <td>0.000000</td>\n",
       "    </tr>\n",
       "    <tr>\n",
       "      <td>attempts</td>\n",
       "      <td>0.000000</td>\n",
       "    </tr>\n",
       "    <tr>\n",
       "      <td>clearRate</td>\n",
       "      <td>0.000000</td>\n",
       "    </tr>\n",
       "  </tbody>\n",
       "</table>\n",
       "</div>"
      ],
      "text/plain": [
       "                   0\n",
       "catch       0.000000\n",
       "id          0.000000\n",
       "firstClear  0.014119\n",
       "tag         0.882394\n",
       "stars       0.000000\n",
       "players     0.000000\n",
       "tweets      0.000000\n",
       "clears      0.000000\n",
       "attempts    0.000000\n",
       "clearRate   0.000000"
      ]
     },
     "metadata": {},
     "output_type": "display_data"
    }
   ],
   "source": [
    "def check_null_cols(df_dict):\n",
    "    #TODO: write a docstring\n",
    "    \n",
    "    for df in df_dict:\n",
    "        print(df)\n",
    "        display(pd.DataFrame((np.sum(df_dict[df].isnull())/df_dict[df].shape[0])))\n",
    "\n",
    "check_null_cols(df_dict)"
   ]
  },
  {
   "cell_type": "markdown",
   "metadata": {},
   "source": [
    "Using the relational diagram on the [SMMNet project page](https://www.kaggle.com/leomauro/smmnet) gives us a good idea of how we need to join the data, what columns we can drop to handle \"slimmer\" dataframes and what we need to watch out for, when cleaning the data.\n",
    "A short overview of what happens in the following cells:\n",
    "\n",
    "1. We will only take the most recent observation from `course-meta`, as each course appears several times with different metrics. In addition, we will drop the columns `tag` as it contains a bunch of `NaN`s, and `catch`, as we won't need it after having made sure that we end up with one record per course. As there are only few `NaN`s in the column `firstClear`, we are going to drop those rows.\n",
    "\n",
    "2. For `courses`, we will drop the `image` and `thumbnail` link, as well as the `title`, as they will only provide us with little information without the use of NLP or image learning.\n",
    "\n",
    "3. For similar reasons, we drop the `image` and `name` columns from `players`."
   ]
  },
  {
   "cell_type": "code",
   "execution_count": 6,
   "metadata": {},
   "outputs": [],
   "source": [
    "# to drop:\n",
    "#  - all earlier entries of a course - we only want the most recent one\n",
    "#      solution from : https://stackoverflow.com/a/51820845\n",
    "#  - columns we won't need thereafter\n",
    "#  - potentially remaining duplicates\n",
    "course_meta_df = df_dict['course-meta'].\\\n",
    "                    sort_values(by = ['id', 'catch']).\\\n",
    "                    drop_duplicates(subset=['id'], keep = 'last').\\\n",
    "                    drop(columns = ['tag', 'catch']).\\\n",
    "                    dropna(subset = ['firstClear'], axis = 0).\\\n",
    "                    drop_duplicates()\n",
    "\n",
    "course_df = df_dict['courses'].\\\n",
    "                drop(columns = ['thumbnail', 'image', 'title']).\\\n",
    "                dropna(subset = ['maker'], axis = 0).\\\n",
    "                drop_duplicates()\n",
    "\n",
    "course_complete_df = course_meta_df.merge(course_df, on = 'id')\n",
    "\n",
    "players_df = df_dict['players'].drop(columns = ['image', 'name']).\\\n",
    "                rename(columns= {'id' : 'player_id'}).\\\n",
    "                drop_duplicates()\n",
    "\n"
   ]
  },
  {
   "cell_type": "code",
   "execution_count": 7,
   "metadata": {},
   "outputs": [
    {
     "name": "stdout",
     "output_type": "stream",
     "text": [
      "(113122, 14)\n",
      "Index(['id', 'firstClear', 'stars', 'players', 'tweets', 'clears', 'attempts',\n",
      "       'clearRate', 'difficulty', 'gameStyle', 'maker', 'creation',\n",
      "       'player_id', 'flag'],\n",
      "      dtype='object')\n"
     ]
    }
   ],
   "source": [
    "#get player flags\n",
    "course_complete_df = course_complete_df.merge(players_df,\n",
    "                                             how = 'left',\n",
    "                                             left_on = 'maker',\n",
    "                                             right_on = 'player_id')\n",
    "\n",
    "print(course_complete_df.shape)\n",
    "print(course_complete_df.columns)"
   ]
  },
  {
   "cell_type": "markdown",
   "metadata": {},
   "source": [
    "In the end, we end up with *113122 rows and 14 columns*. A quick check confirms that everything went as expected and we have all the info we need."
   ]
  },
  {
   "cell_type": "code",
   "execution_count": 8,
   "metadata": {},
   "outputs": [
    {
     "data": {
      "text/html": [
       "<div>\n",
       "<style scoped>\n",
       "    .dataframe tbody tr th:only-of-type {\n",
       "        vertical-align: middle;\n",
       "    }\n",
       "\n",
       "    .dataframe tbody tr th {\n",
       "        vertical-align: top;\n",
       "    }\n",
       "\n",
       "    .dataframe thead th {\n",
       "        text-align: right;\n",
       "    }\n",
       "</style>\n",
       "<table border=\"1\" class=\"dataframe\">\n",
       "  <thead>\n",
       "    <tr style=\"text-align: right;\">\n",
       "      <th></th>\n",
       "      <th>id</th>\n",
       "      <th>firstClear</th>\n",
       "      <th>stars</th>\n",
       "      <th>players</th>\n",
       "      <th>tweets</th>\n",
       "      <th>clears</th>\n",
       "      <th>attempts</th>\n",
       "      <th>clearRate</th>\n",
       "      <th>difficulty</th>\n",
       "      <th>gameStyle</th>\n",
       "      <th>maker</th>\n",
       "      <th>creation</th>\n",
       "      <th>player_id</th>\n",
       "      <th>flag</th>\n",
       "    </tr>\n",
       "  </thead>\n",
       "  <tbody>\n",
       "    <tr>\n",
       "      <td>0</td>\n",
       "      <td>0000-0000-0353-3D35</td>\n",
       "      <td>groebenzell</td>\n",
       "      <td>1</td>\n",
       "      <td>13</td>\n",
       "      <td>0</td>\n",
       "      <td>9</td>\n",
       "      <td>27</td>\n",
       "      <td>33.33</td>\n",
       "      <td>normal</td>\n",
       "      <td>marioBrosU</td>\n",
       "      <td>Raphael160908</td>\n",
       "      <td>2017-08-16 00:00:00</td>\n",
       "      <td>Raphael160908</td>\n",
       "      <td>FR</td>\n",
       "    </tr>\n",
       "    <tr>\n",
       "      <td>1</td>\n",
       "      <td>0000-0000-035A-9F14</td>\n",
       "      <td>moonbear89</td>\n",
       "      <td>1</td>\n",
       "      <td>13</td>\n",
       "      <td>0</td>\n",
       "      <td>4</td>\n",
       "      <td>37</td>\n",
       "      <td>10.81</td>\n",
       "      <td>normal</td>\n",
       "      <td>marioWorld</td>\n",
       "      <td>Mr.loom</td>\n",
       "      <td>2017-09-03 00:00:00</td>\n",
       "      <td>Mr.loom</td>\n",
       "      <td>DE</td>\n",
       "    </tr>\n",
       "    <tr>\n",
       "      <td>2</td>\n",
       "      <td>0001-0000-0347-486A</td>\n",
       "      <td>cat38690</td>\n",
       "      <td>2</td>\n",
       "      <td>28</td>\n",
       "      <td>0</td>\n",
       "      <td>25</td>\n",
       "      <td>47</td>\n",
       "      <td>53.19</td>\n",
       "      <td>easy</td>\n",
       "      <td>marioBrosU</td>\n",
       "      <td>alirab</td>\n",
       "      <td>2017-07-19 00:00:00</td>\n",
       "      <td>alirab</td>\n",
       "      <td>CA</td>\n",
       "    </tr>\n",
       "    <tr>\n",
       "      <td>3</td>\n",
       "      <td>0001-0000-0359-B3CD</td>\n",
       "      <td>BHcrew4708</td>\n",
       "      <td>1</td>\n",
       "      <td>13</td>\n",
       "      <td>0</td>\n",
       "      <td>6</td>\n",
       "      <td>24</td>\n",
       "      <td>25.00</td>\n",
       "      <td>normal</td>\n",
       "      <td>marioBrosU</td>\n",
       "      <td>SmithsOnForchuk</td>\n",
       "      <td>2017-09-01 00:00:00</td>\n",
       "      <td>SmithsOnForchuk</td>\n",
       "      <td>CA</td>\n",
       "    </tr>\n",
       "    <tr>\n",
       "      <td>4</td>\n",
       "      <td>0002-0000-0328-E374</td>\n",
       "      <td>ishindenshin217</td>\n",
       "      <td>3</td>\n",
       "      <td>33</td>\n",
       "      <td>0</td>\n",
       "      <td>28</td>\n",
       "      <td>66</td>\n",
       "      <td>42.42</td>\n",
       "      <td>easy</td>\n",
       "      <td>marioBros</td>\n",
       "      <td>FOOTBALLEUR3.0</td>\n",
       "      <td>2017-04-30 00:00:00</td>\n",
       "      <td>FOOTBALLEUR3.0</td>\n",
       "      <td>FR</td>\n",
       "    </tr>\n",
       "  </tbody>\n",
       "</table>\n",
       "</div>"
      ],
      "text/plain": [
       "                    id       firstClear  stars  players  tweets  clears  \\\n",
       "0  0000-0000-0353-3D35      groebenzell      1       13       0       9   \n",
       "1  0000-0000-035A-9F14       moonbear89      1       13       0       4   \n",
       "2  0001-0000-0347-486A         cat38690      2       28       0      25   \n",
       "3  0001-0000-0359-B3CD       BHcrew4708      1       13       0       6   \n",
       "4  0002-0000-0328-E374  ishindenshin217      3       33       0      28   \n",
       "\n",
       "   attempts  clearRate difficulty   gameStyle            maker  \\\n",
       "0        27      33.33     normal  marioBrosU    Raphael160908   \n",
       "1        37      10.81     normal  marioWorld          Mr.loom   \n",
       "2        47      53.19       easy  marioBrosU           alirab   \n",
       "3        24      25.00     normal  marioBrosU  SmithsOnForchuk   \n",
       "4        66      42.42       easy   marioBros   FOOTBALLEUR3.0   \n",
       "\n",
       "              creation        player_id flag  \n",
       "0  2017-08-16 00:00:00    Raphael160908   FR  \n",
       "1  2017-09-03 00:00:00          Mr.loom   DE  \n",
       "2  2017-07-19 00:00:00           alirab   CA  \n",
       "3  2017-09-01 00:00:00  SmithsOnForchuk   CA  \n",
       "4  2017-04-30 00:00:00   FOOTBALLEUR3.0   FR  "
      ]
     },
     "execution_count": 8,
     "metadata": {},
     "output_type": "execute_result"
    }
   ],
   "source": [
    "course_complete_df.head()"
   ]
  },
  {
   "cell_type": "markdown",
   "metadata": {},
   "source": [
    "Now we can start by looking at some descriptive metrics that are easy to compute from our complete dataframe. Using the graphs below, we can draw the following conclusions:\n",
    "1. Most courses in our dataset were contributed by French accounts.\n",
    "2. Most courses wer graded as `normal` in terms of their difficulty.\n",
    "3. The timeframe of our data ranges from 2017/02/11 ~ 2018/04/09\n",
    "4. Interestingly, only a comparatively small subset of flags that were present among players are also present as course creators. It is hard to imagine that accounts from other countries didn't contribute courses, as this is the main premise and USP of Super Mario Maker, so the dataset seemed to limit itself in some way to creators from those four countries."
   ]
  },
  {
   "cell_type": "code",
   "execution_count": 9,
   "metadata": {},
   "outputs": [],
   "source": [
    "country_counts = course_complete_df.flag.value_counts()\n",
    "difficulty_counts = course_complete_df.difficulty.value_counts() "
   ]
  },
  {
   "cell_type": "code",
   "execution_count": 10,
   "metadata": {},
   "outputs": [
    {
     "data": {
      "image/png": "[encoded data removed]",
      "text/plain": [
       "<Figure size 432x288 with 1 Axes>"
      ]
     },
     "metadata": {
      "needs_background": "light"
     },
     "output_type": "display_data"
    }
   ],
   "source": [
    "(country_counts/course_complete_df.shape[0]).sort_values().plot(kind = 'bar')\n",
    "plt.title(\"Share of Levels Created by Country\");"
   ]
  },
  {
   "cell_type": "code",
   "execution_count": 11,
   "metadata": {},
   "outputs": [
    {
     "data": {
      "image/png": "[encoded data removed]",
      "text/plain": [
       "<Figure size 432x288 with 1 Axes>"
      ]
     },
     "metadata": {
      "needs_background": "light"
     },
     "output_type": "display_data"
    }
   ],
   "source": [
    "(difficulty_counts/course_complete_df.shape[0]).sort_values().plot(kind = 'bar')\n",
    "plt.title(\"Share of Levels Created by Difficulty\");"
   ]
  },
  {
   "cell_type": "code",
   "execution_count": 12,
   "metadata": {},
   "outputs": [
    {
     "name": "stdout",
     "output_type": "stream",
     "text": [
      "2018-04-09 11:03:11.789 2017-02-11 23:00:00\n"
     ]
    }
   ],
   "source": [
    "print(course_complete_df.creation.max(), course_complete_df.creation.min())"
   ]
  },
  {
   "cell_type": "code",
   "execution_count": 13,
   "metadata": {},
   "outputs": [
    {
     "data": {
      "text/plain": [
       "array(['FR', 'DE', 'CA', 'BR'], dtype=object)"
      ]
     },
     "execution_count": 13,
     "metadata": {},
     "output_type": "execute_result"
    }
   ],
   "source": [
    "course_complete_df.flag.unique()"
   ]
  },
  {
   "cell_type": "code",
   "execution_count": 14,
   "metadata": {},
   "outputs": [
    {
     "data": {
      "text/plain": [
       "array(['BR', 'JP', 'US', 'NO', 'CA', 'FR', 'DE', 'HN', 'MX', 'BE', 'GB',\n",
       "       'NL', 'DK', 'IT', 'SE', 'RU', 'FI', 'ES', 'GT', 'CL', 'PT', 'AT',\n",
       "       'AU', 'PL', 'IE', 'PE', 'VE', 'NZ', 'CO', 'HR', 'SI', 'CH', 'DO',\n",
       "       'BG', 'CR', 'PA', 'EC', 'GR', 'LU', 'PY', 'ZA', 'TR', 'HU', 'AR',\n",
       "       'BO', 'SV', 'AI', 'RO', 'SK', 'EE', 'LC', 'UY', 'LT', 'VI', 'CZ',\n",
       "       'CY', 'TT', 'NI', 'BB', 'GY', 'HT', 'MT', 'DM', 'LV', 'BM', 'AG',\n",
       "       'BS', 'AW', 'BZ', 'GF', 'KY', 'MQ', 'AN', 'GD', 'GP', 'VG', 'VC',\n",
       "       'JM', 'SR', 'MS', 'KN', 'TC'], dtype=object)"
      ]
     },
     "execution_count": 14,
     "metadata": {},
     "output_type": "execute_result"
    }
   ],
   "source": [
    "players_df.flag.unique()"
   ]
  },
  {
   "cell_type": "markdown",
   "metadata": {},
   "source": [
    "## What makes courses successful in terms of stars and tweets?"
   ]
  },
  {
   "cell_type": "markdown",
   "metadata": {},
   "source": [
    "To answer the questions above, we can go ahead and try to build simple models to predict stars and tweets, look at how well they perform and extract coefficient estimates for the independent variables to see, which of them our models consider to have the strongest influence on the number of stars and tweets. Before we do this, there are a few necessary steps to do:\n",
    "\n",
    "1. It is most probably of relevance to know, *who* made a particular level. However, with the large number of creators present in our dataset, it doesn't make sense to transform them into a dummy variable as we would risk overparametrizing the model. To still operationalize the info, we would get out of the creator's ID, we will construct a variable counting how many courses a given creator has created. Naively assuming that we can use this proxy to catch some kind of \"experiene\" in creating courses, we have an easily useable numeric variable.\n",
    "\n",
    "2. To have `scikit-learn` properly handle the date variable `creation`, we need to transform the `datetime` into a numeric variable by transforming it into the number of days between a courses creation and the earliest date in our dataframe. This transformation preserves the underlying ordering and the information we are looking for in `creation`.\n",
    "\n",
    "3. We should also drop `clears` (or `attempts` or `clearRate`), as we have the linear relationship `clears = attempts*(clearRate/100)`. This would pose a problem for the model\n",
    "\n",
    "4. For the remaining categorical variables, we need to extract corresponding dummy variables."
   ]
  },
  {
   "cell_type": "code",
   "execution_count": 15,
   "metadata": {},
   "outputs": [],
   "source": [
    "# extract number of courses created and add as extra column\n",
    "course_complete_df['courses_by_maker'] = course_complete_df.groupby('maker').transform('count').id\n",
    "\n",
    "# operationalize age of course relative to earliest date in df in days\n",
    "course_complete_df['creation'] = pd.to_datetime(course_complete_df.creation)\n",
    "course_complete_df['normalized_age'] = (course_complete_df.creation - course_complete_df.creation.min()).dt.days"
   ]
  },
  {
   "cell_type": "code",
   "execution_count": 16,
   "metadata": {},
   "outputs": [
    {
     "data": {
      "text/html": [
       "<div>\n",
       "<style scoped>\n",
       "    .dataframe tbody tr th:only-of-type {\n",
       "        vertical-align: middle;\n",
       "    }\n",
       "\n",
       "    .dataframe tbody tr th {\n",
       "        vertical-align: top;\n",
       "    }\n",
       "\n",
       "    .dataframe thead th {\n",
       "        text-align: right;\n",
       "    }\n",
       "</style>\n",
       "<table border=\"1\" class=\"dataframe\">\n",
       "  <thead>\n",
       "    <tr style=\"text-align: right;\">\n",
       "      <th></th>\n",
       "      <th>stars</th>\n",
       "      <th>players</th>\n",
       "      <th>tweets</th>\n",
       "      <th>attempts</th>\n",
       "      <th>clearRate</th>\n",
       "      <th>difficulty</th>\n",
       "      <th>gameStyle</th>\n",
       "      <th>flag</th>\n",
       "      <th>courses_by_maker</th>\n",
       "      <th>normalized_age</th>\n",
       "    </tr>\n",
       "  </thead>\n",
       "  <tbody>\n",
       "    <tr>\n",
       "      <td>0</td>\n",
       "      <td>1</td>\n",
       "      <td>13</td>\n",
       "      <td>0</td>\n",
       "      <td>27</td>\n",
       "      <td>33.33</td>\n",
       "      <td>normal</td>\n",
       "      <td>marioBrosU</td>\n",
       "      <td>FR</td>\n",
       "      <td>4</td>\n",
       "      <td>185</td>\n",
       "    </tr>\n",
       "    <tr>\n",
       "      <td>1</td>\n",
       "      <td>1</td>\n",
       "      <td>13</td>\n",
       "      <td>0</td>\n",
       "      <td>37</td>\n",
       "      <td>10.81</td>\n",
       "      <td>normal</td>\n",
       "      <td>marioWorld</td>\n",
       "      <td>DE</td>\n",
       "      <td>1</td>\n",
       "      <td>203</td>\n",
       "    </tr>\n",
       "    <tr>\n",
       "      <td>2</td>\n",
       "      <td>2</td>\n",
       "      <td>28</td>\n",
       "      <td>0</td>\n",
       "      <td>47</td>\n",
       "      <td>53.19</td>\n",
       "      <td>easy</td>\n",
       "      <td>marioBrosU</td>\n",
       "      <td>CA</td>\n",
       "      <td>4</td>\n",
       "      <td>157</td>\n",
       "    </tr>\n",
       "    <tr>\n",
       "      <td>3</td>\n",
       "      <td>1</td>\n",
       "      <td>13</td>\n",
       "      <td>0</td>\n",
       "      <td>24</td>\n",
       "      <td>25.00</td>\n",
       "      <td>normal</td>\n",
       "      <td>marioBrosU</td>\n",
       "      <td>CA</td>\n",
       "      <td>1</td>\n",
       "      <td>201</td>\n",
       "    </tr>\n",
       "    <tr>\n",
       "      <td>4</td>\n",
       "      <td>3</td>\n",
       "      <td>33</td>\n",
       "      <td>0</td>\n",
       "      <td>66</td>\n",
       "      <td>42.42</td>\n",
       "      <td>easy</td>\n",
       "      <td>marioBros</td>\n",
       "      <td>FR</td>\n",
       "      <td>3</td>\n",
       "      <td>77</td>\n",
       "    </tr>\n",
       "  </tbody>\n",
       "</table>\n",
       "</div>"
      ],
      "text/plain": [
       "   stars  players  tweets  attempts  clearRate difficulty   gameStyle flag  \\\n",
       "0      1       13       0        27      33.33     normal  marioBrosU   FR   \n",
       "1      1       13       0        37      10.81     normal  marioWorld   DE   \n",
       "2      2       28       0        47      53.19       easy  marioBrosU   CA   \n",
       "3      1       13       0        24      25.00     normal  marioBrosU   CA   \n",
       "4      3       33       0        66      42.42       easy   marioBros   FR   \n",
       "\n",
       "   courses_by_maker  normalized_age  \n",
       "0                 4             185  \n",
       "1                 1             203  \n",
       "2                 4             157  \n",
       "3                 1             201  \n",
       "4                 3              77  "
      ]
     },
     "execution_count": 16,
     "metadata": {},
     "output_type": "execute_result"
    }
   ],
   "source": [
    "course_clean_df = course_complete_df.drop(columns = \n",
    "                ['firstClear', 'id', 'maker', 'player_id', 'clears', 'creation'])\n",
    "\n",
    "# also drop clears... the info is not needed as we have \n",
    "# clears = attempts*(clearRate/100)\n",
    "\n",
    "# we're dropping maker here although it might be useful...\n",
    "# use somewhere else in analysis\n",
    "# we should also extract creation in a meaningful way.\n",
    "course_clean_df.head()"
   ]
  },
  {
   "cell_type": "code",
   "execution_count": 17,
   "metadata": {},
   "outputs": [],
   "source": [
    "# split columns into num_ and cat_\n",
    "\n",
    "cat_cols = ['difficulty', 'gameStyle', 'flag']\n",
    "num_cols = [col for col in course_clean_df.columns if col not in cat_cols]\n",
    "# gives the right result and doesnt require us to split the df"
   ]
  },
  {
   "cell_type": "code",
   "execution_count": 18,
   "metadata": {},
   "outputs": [],
   "source": [
    "#taken from lectures\n",
    "def get_dummy_df(df, cat_cols, dummy_na=True):\n",
    "    '''\n",
    "    INPUT:\n",
    "    df - pandas dataframe with categorical variables you want to dummy\n",
    "    cat_cols - list of strings that are associated with names of the categorical columns\n",
    "    dummy_na - Bool holding whether you want to dummy NA vals of categorical columns or not\n",
    "    \n",
    "    OUTPUT:\n",
    "    df - a new dataframe that has the following characteristics:\n",
    "            1. contains all columns that were not specified as categorical\n",
    "            2. removes all the original columns in cat_cols\n",
    "            3. dummy columns for each of the categorical columns in cat_cols\n",
    "            4. if dummy_na is True - it also contains dummy columns for the NaN values\n",
    "            5. Use a prefix of the column name with an underscore (_) for separating \n",
    "    '''\n",
    "    \n",
    "    for column in cat_cols:\n",
    "        \n",
    "        try:\n",
    "            df = pd.concat([df.drop(column, axis = 1), pd.get_dummies(df[column], dummy_na=dummy_na, prefix = column, \n",
    "                                                                     prefix_sep = \"_\", drop_first = True)], axis = 1)\n",
    "        except:\n",
    "            continue\n",
    "            \n",
    "    return df\n",
    "            \n",
    "\n",
    "    "
   ]
  },
  {
   "cell_type": "code",
   "execution_count": 19,
   "metadata": {},
   "outputs": [
    {
     "data": {
      "text/html": [
       "<div>\n",
       "<style scoped>\n",
       "    .dataframe tbody tr th:only-of-type {\n",
       "        vertical-align: middle;\n",
       "    }\n",
       "\n",
       "    .dataframe tbody tr th {\n",
       "        vertical-align: top;\n",
       "    }\n",
       "\n",
       "    .dataframe thead th {\n",
       "        text-align: right;\n",
       "    }\n",
       "</style>\n",
       "<table border=\"1\" class=\"dataframe\">\n",
       "  <thead>\n",
       "    <tr style=\"text-align: right;\">\n",
       "      <th></th>\n",
       "      <th>stars</th>\n",
       "      <th>players</th>\n",
       "      <th>tweets</th>\n",
       "      <th>attempts</th>\n",
       "      <th>clearRate</th>\n",
       "      <th>courses_by_maker</th>\n",
       "      <th>normalized_age</th>\n",
       "      <th>difficulty_expert</th>\n",
       "      <th>difficulty_normal</th>\n",
       "      <th>difficulty_superExpert</th>\n",
       "      <th>gameStyle_marioBros3</th>\n",
       "      <th>gameStyle_marioBrosU</th>\n",
       "      <th>gameStyle_marioWorld</th>\n",
       "      <th>flag_CA</th>\n",
       "      <th>flag_DE</th>\n",
       "      <th>flag_FR</th>\n",
       "    </tr>\n",
       "  </thead>\n",
       "  <tbody>\n",
       "    <tr>\n",
       "      <td>0</td>\n",
       "      <td>1</td>\n",
       "      <td>13</td>\n",
       "      <td>0</td>\n",
       "      <td>27</td>\n",
       "      <td>33.33</td>\n",
       "      <td>4</td>\n",
       "      <td>185</td>\n",
       "      <td>0</td>\n",
       "      <td>1</td>\n",
       "      <td>0</td>\n",
       "      <td>0</td>\n",
       "      <td>1</td>\n",
       "      <td>0</td>\n",
       "      <td>0</td>\n",
       "      <td>0</td>\n",
       "      <td>1</td>\n",
       "    </tr>\n",
       "    <tr>\n",
       "      <td>1</td>\n",
       "      <td>1</td>\n",
       "      <td>13</td>\n",
       "      <td>0</td>\n",
       "      <td>37</td>\n",
       "      <td>10.81</td>\n",
       "      <td>1</td>\n",
       "      <td>203</td>\n",
       "      <td>0</td>\n",
       "      <td>1</td>\n",
       "      <td>0</td>\n",
       "      <td>0</td>\n",
       "      <td>0</td>\n",
       "      <td>1</td>\n",
       "      <td>0</td>\n",
       "      <td>1</td>\n",
       "      <td>0</td>\n",
       "    </tr>\n",
       "    <tr>\n",
       "      <td>2</td>\n",
       "      <td>2</td>\n",
       "      <td>28</td>\n",
       "      <td>0</td>\n",
       "      <td>47</td>\n",
       "      <td>53.19</td>\n",
       "      <td>4</td>\n",
       "      <td>157</td>\n",
       "      <td>0</td>\n",
       "      <td>0</td>\n",
       "      <td>0</td>\n",
       "      <td>0</td>\n",
       "      <td>1</td>\n",
       "      <td>0</td>\n",
       "      <td>1</td>\n",
       "      <td>0</td>\n",
       "      <td>0</td>\n",
       "    </tr>\n",
       "    <tr>\n",
       "      <td>3</td>\n",
       "      <td>1</td>\n",
       "      <td>13</td>\n",
       "      <td>0</td>\n",
       "      <td>24</td>\n",
       "      <td>25.00</td>\n",
       "      <td>1</td>\n",
       "      <td>201</td>\n",
       "      <td>0</td>\n",
       "      <td>1</td>\n",
       "      <td>0</td>\n",
       "      <td>0</td>\n",
       "      <td>1</td>\n",
       "      <td>0</td>\n",
       "      <td>1</td>\n",
       "      <td>0</td>\n",
       "      <td>0</td>\n",
       "    </tr>\n",
       "    <tr>\n",
       "      <td>4</td>\n",
       "      <td>3</td>\n",
       "      <td>33</td>\n",
       "      <td>0</td>\n",
       "      <td>66</td>\n",
       "      <td>42.42</td>\n",
       "      <td>3</td>\n",
       "      <td>77</td>\n",
       "      <td>0</td>\n",
       "      <td>0</td>\n",
       "      <td>0</td>\n",
       "      <td>0</td>\n",
       "      <td>0</td>\n",
       "      <td>0</td>\n",
       "      <td>0</td>\n",
       "      <td>0</td>\n",
       "      <td>1</td>\n",
       "    </tr>\n",
       "  </tbody>\n",
       "</table>\n",
       "</div>"
      ],
      "text/plain": [
       "   stars  players  tweets  attempts  clearRate  courses_by_maker  \\\n",
       "0      1       13       0        27      33.33                 4   \n",
       "1      1       13       0        37      10.81                 1   \n",
       "2      2       28       0        47      53.19                 4   \n",
       "3      1       13       0        24      25.00                 1   \n",
       "4      3       33       0        66      42.42                 3   \n",
       "\n",
       "   normalized_age  difficulty_expert  difficulty_normal  \\\n",
       "0             185                  0                  1   \n",
       "1             203                  0                  1   \n",
       "2             157                  0                  0   \n",
       "3             201                  0                  1   \n",
       "4              77                  0                  0   \n",
       "\n",
       "   difficulty_superExpert  gameStyle_marioBros3  gameStyle_marioBrosU  \\\n",
       "0                       0                     0                     1   \n",
       "1                       0                     0                     0   \n",
       "2                       0                     0                     1   \n",
       "3                       0                     0                     1   \n",
       "4                       0                     0                     0   \n",
       "\n",
       "   gameStyle_marioWorld  flag_CA  flag_DE  flag_FR  \n",
       "0                     0        0        0        1  \n",
       "1                     1        0        1        0  \n",
       "2                     0        1        0        0  \n",
       "3                     0        1        0        0  \n",
       "4                     0        0        0        1  "
      ]
     },
     "execution_count": 19,
     "metadata": {},
     "output_type": "execute_result"
    }
   ],
   "source": [
    "course_final_df = get_dummy_df(course_clean_df, cat_cols, False) # already checked, there are no NaNs left\n",
    "course_final_df.head()"
   ]
  },
  {
   "cell_type": "markdown",
   "metadata": {},
   "source": [
    "With this cleaned and prepared dataset, we can then proceed to estimate two linear models; one for the stars and one for the tweets."
   ]
  },
  {
   "cell_type": "code",
   "execution_count": 20,
   "metadata": {},
   "outputs": [],
   "source": [
    "# prepare for linreg\n",
    "\n",
    "y_stars = course_final_df.stars\n",
    "y_tweets = course_final_df.tweets\n",
    "\n",
    "X_stars = course_final_df.drop(columns = ['stars'])\n",
    "X_tweets = course_final_df.drop(columns = ['tweets'])\n",
    "\n",
    "X_stars_train, X_stars_test, y_stars_train, y_stars_test = train_test_split(X_stars, y_stars, \n",
    "                                                                            test_size = .33, random_state = 23)\n",
    "\n",
    "X_tweets_train, X_tweets_test, y_tweets_train, y_tweets_test = train_test_split(X_tweets, y_tweets, \n",
    "                                                                            test_size = .33, random_state = 23)\n",
    "\n",
    "lm_stars = LinearRegression(normalize=True).fit(X_stars_train,y_stars_train)\n",
    "lm_tweets = LinearRegression(normalize=True).fit(X_tweets_train,y_tweets_train)\n",
    "\n",
    "y_stars_train_preds = lm_stars.predict(X_stars_train)\n",
    "y_stars_test_preds = lm_stars.predict(X_stars_test)\n",
    "\n",
    "y_tweets_train_preds = lm_tweets.predict(X_tweets_train)\n",
    "y_tweets_test_preds = lm_tweets.predict(X_tweets_test)\n",
    "\n",
    "train_score_stars = r2_score(y_stars_train, y_stars_train_preds)\n",
    "test_score_stars = r2_score(y_stars_test, y_stars_test_preds)\n",
    "\n",
    "train_score_tweets = r2_score(y_tweets_train, y_tweets_train_preds)\n",
    "test_score_tweets = r2_score(y_tweets_test, y_tweets_test_preds)"
   ]
  },
  {
   "cell_type": "code",
   "execution_count": 21,
   "metadata": {},
   "outputs": [],
   "source": [
    "out = \\\n",
    "'R2 Training (Stars): \\t' + str(train_score_stars) + '\\n' +\\\n",
    "'R2 Testing (Stars): \\t' + str(test_score_stars) + '\\n' +\\\n",
    "'R2 Training (Tweets): \\t' + str(train_score_tweets) + '\\n' +\\\n",
    "'R2 Testing (Tweets): \\t' + str(test_score_tweets) + '\\n'"
   ]
  },
  {
   "cell_type": "code",
   "execution_count": 22,
   "metadata": {},
   "outputs": [
    {
     "name": "stdout",
     "output_type": "stream",
     "text": [
      "R2 Training (Stars): \t0.9151698072435811\n",
      "R2 Testing (Stars): \t0.9316487024188472\n",
      "R2 Training (Tweets): \t0.009056441928940617\n",
      "R2 Testing (Tweets): \t0.019974109518443472\n",
      "\n"
     ]
    }
   ],
   "source": [
    "print(out)"
   ]
  },
  {
   "cell_type": "markdown",
   "metadata": {},
   "source": [
    "Our model for the stars seems to work out almost too well! It's explaining the training data very well and also does a good job extending to new datasets. \n",
    "The model for predicting the number of tweets, however, is a different story. It performs very poorly. Probably the model is missing some information, like the `firstClear` player, or players, who cleared the level in general, as some of those might be influencers. However, including those variables as dummy does not seem to be the optimal way to proceed here. For predicting the number of tweets, we might need other analytical tools, such as network analysis or something similar to identify players driving tweets."
   ]
  },
  {
   "cell_type": "markdown",
   "metadata": {},
   "source": [
    "Now that we have estimated our linear models, we can proceed to have a look at the estimated coefficients to identify drivers of the number of stars (and - taking the results with a grain of salt - also of the number of tweets)"
   ]
  },
  {
   "cell_type": "code",
   "execution_count": 23,
   "metadata": {},
   "outputs": [],
   "source": [
    "def coef_weights(model, coefficients, X_train):\n",
    "    '''\n",
    "    INPUT:\n",
    "    coefficients - the coefficients of the linear model \n",
    "    X_train - the training data, so the column names can be used\n",
    "    OUTPUT:\n",
    "    coefs_df - a dataframe holding the coefficient, estimate, and abs(estimate)\n",
    "    \n",
    "    Provides a dataframe that can be used to understand the most influential coefficients\n",
    "    in a linear model by providing the coefficient estimates along with the name of the \n",
    "    variable attached to the coefficient.\n",
    "    '''\n",
    "    coefs_df = pd.DataFrame()\n",
    "    coefs_df['est_int'] = X_train.columns\n",
    "    coefs_df['coefs'] = model.coef_\n",
    "    coefs_df['abs_coefs'] = np.abs(model.coef_)\n",
    "    coefs_df = coefs_df.sort_values('abs_coefs', ascending=False)\n",
    "    return coefs_df\n"
   ]
  },
  {
   "cell_type": "code",
   "execution_count": 24,
   "metadata": {},
   "outputs": [
    {
     "data": {
      "text/html": [
       "<div>\n",
       "<style scoped>\n",
       "    .dataframe tbody tr th:only-of-type {\n",
       "        vertical-align: middle;\n",
       "    }\n",
       "\n",
       "    .dataframe tbody tr th {\n",
       "        vertical-align: top;\n",
       "    }\n",
       "\n",
       "    .dataframe thead th {\n",
       "        text-align: right;\n",
       "    }\n",
       "</style>\n",
       "<table border=\"1\" class=\"dataframe\">\n",
       "  <thead>\n",
       "    <tr style=\"text-align: right;\">\n",
       "      <th></th>\n",
       "      <th>est_int</th>\n",
       "      <th>coefs</th>\n",
       "      <th>abs_coefs</th>\n",
       "    </tr>\n",
       "  </thead>\n",
       "  <tbody>\n",
       "    <tr>\n",
       "      <td>8</td>\n",
       "      <td>difficulty_superExpert</td>\n",
       "      <td>-3.872263</td>\n",
       "      <td>3.872263</td>\n",
       "    </tr>\n",
       "    <tr>\n",
       "      <td>6</td>\n",
       "      <td>difficulty_expert</td>\n",
       "      <td>-2.541356</td>\n",
       "      <td>2.541356</td>\n",
       "    </tr>\n",
       "    <tr>\n",
       "      <td>1</td>\n",
       "      <td>tweets</td>\n",
       "      <td>2.343754</td>\n",
       "      <td>2.343754</td>\n",
       "    </tr>\n",
       "    <tr>\n",
       "      <td>7</td>\n",
       "      <td>difficulty_normal</td>\n",
       "      <td>-1.510019</td>\n",
       "      <td>1.510019</td>\n",
       "    </tr>\n",
       "    <tr>\n",
       "      <td>10</td>\n",
       "      <td>gameStyle_marioBrosU</td>\n",
       "      <td>-1.187663</td>\n",
       "      <td>1.187663</td>\n",
       "    </tr>\n",
       "    <tr>\n",
       "      <td>11</td>\n",
       "      <td>gameStyle_marioWorld</td>\n",
       "      <td>-0.502811</td>\n",
       "      <td>0.502811</td>\n",
       "    </tr>\n",
       "    <tr>\n",
       "      <td>9</td>\n",
       "      <td>gameStyle_marioBros3</td>\n",
       "      <td>-0.497774</td>\n",
       "      <td>0.497774</td>\n",
       "    </tr>\n",
       "    <tr>\n",
       "      <td>13</td>\n",
       "      <td>flag_DE</td>\n",
       "      <td>0.292258</td>\n",
       "      <td>0.292258</td>\n",
       "    </tr>\n",
       "    <tr>\n",
       "      <td>4</td>\n",
       "      <td>courses_by_maker</td>\n",
       "      <td>0.168090</td>\n",
       "      <td>0.168090</td>\n",
       "    </tr>\n",
       "    <tr>\n",
       "      <td>0</td>\n",
       "      <td>players</td>\n",
       "      <td>0.134016</td>\n",
       "      <td>0.134016</td>\n",
       "    </tr>\n",
       "    <tr>\n",
       "      <td>14</td>\n",
       "      <td>flag_FR</td>\n",
       "      <td>-0.097173</td>\n",
       "      <td>0.097173</td>\n",
       "    </tr>\n",
       "    <tr>\n",
       "      <td>12</td>\n",
       "      <td>flag_CA</td>\n",
       "      <td>-0.096769</td>\n",
       "      <td>0.096769</td>\n",
       "    </tr>\n",
       "    <tr>\n",
       "      <td>3</td>\n",
       "      <td>clearRate</td>\n",
       "      <td>-0.032517</td>\n",
       "      <td>0.032517</td>\n",
       "    </tr>\n",
       "    <tr>\n",
       "      <td>5</td>\n",
       "      <td>normalized_age</td>\n",
       "      <td>0.008442</td>\n",
       "      <td>0.008442</td>\n",
       "    </tr>\n",
       "    <tr>\n",
       "      <td>2</td>\n",
       "      <td>attempts</td>\n",
       "      <td>0.000139</td>\n",
       "      <td>0.000139</td>\n",
       "    </tr>\n",
       "  </tbody>\n",
       "</table>\n",
       "</div>"
      ],
      "text/plain": [
       "                   est_int     coefs  abs_coefs\n",
       "8   difficulty_superExpert -3.872263   3.872263\n",
       "6        difficulty_expert -2.541356   2.541356\n",
       "1                   tweets  2.343754   2.343754\n",
       "7        difficulty_normal -1.510019   1.510019\n",
       "10    gameStyle_marioBrosU -1.187663   1.187663\n",
       "11    gameStyle_marioWorld -0.502811   0.502811\n",
       "9     gameStyle_marioBros3 -0.497774   0.497774\n",
       "13                 flag_DE  0.292258   0.292258\n",
       "4         courses_by_maker  0.168090   0.168090\n",
       "0                  players  0.134016   0.134016\n",
       "14                 flag_FR -0.097173   0.097173\n",
       "12                 flag_CA -0.096769   0.096769\n",
       "3                clearRate -0.032517   0.032517\n",
       "5           normalized_age  0.008442   0.008442\n",
       "2                 attempts  0.000139   0.000139"
      ]
     },
     "execution_count": 24,
     "metadata": {},
     "output_type": "execute_result"
    }
   ],
   "source": [
    "#Use the function\n",
    "coef_stars_df = coef_weights(lm_stars, lm_stars.coef_, X_stars_train)\n",
    "\n",
    "#A quick look at the top results\n",
    "coef_stars_df.head(20)"
   ]
  },
  {
   "cell_type": "markdown",
   "metadata": {},
   "source": [
    "To properly interpret the coefficients of the catecorical values here, we always have to keep in mind the one category we had dropped before, as we compare *all other categories against that one*. For our coefficients, that means that levels from Germany tend to get more stars than levels submitted by US users, whereas levels submitted from France and Canada compare worse to them.\n",
    "Just judging from the coefficients, we can conclude that harder levels get - everything else being equal - less stars than easy levels.\n",
    "Unsurprisingly, levels that get tweeted more often reach more people and thus receive more stars. Also, a level being made in the style of classic Super Mario Bros.\n",
    "Finally, we could also confirm our hypothesis that courses by more seasoned creators receive more stars."
   ]
  },
  {
   "cell_type": "code",
   "execution_count": 25,
   "metadata": {},
   "outputs": [
    {
     "data": {
      "text/html": [
       "<div>\n",
       "<style scoped>\n",
       "    .dataframe tbody tr th:only-of-type {\n",
       "        vertical-align: middle;\n",
       "    }\n",
       "\n",
       "    .dataframe tbody tr th {\n",
       "        vertical-align: top;\n",
       "    }\n",
       "\n",
       "    .dataframe thead th {\n",
       "        text-align: right;\n",
       "    }\n",
       "</style>\n",
       "<table border=\"1\" class=\"dataframe\">\n",
       "  <thead>\n",
       "    <tr style=\"text-align: right;\">\n",
       "      <th></th>\n",
       "      <th>est_int</th>\n",
       "      <th>coefs</th>\n",
       "      <th>abs_coefs</th>\n",
       "    </tr>\n",
       "  </thead>\n",
       "  <tbody>\n",
       "    <tr>\n",
       "      <td>13</td>\n",
       "      <td>flag_DE</td>\n",
       "      <td>2.746550e-03</td>\n",
       "      <td>2.746550e-03</td>\n",
       "    </tr>\n",
       "    <tr>\n",
       "      <td>11</td>\n",
       "      <td>gameStyle_marioWorld</td>\n",
       "      <td>-1.697140e-03</td>\n",
       "      <td>1.697140e-03</td>\n",
       "    </tr>\n",
       "    <tr>\n",
       "      <td>7</td>\n",
       "      <td>difficulty_normal</td>\n",
       "      <td>-1.329622e-03</td>\n",
       "      <td>1.329622e-03</td>\n",
       "    </tr>\n",
       "    <tr>\n",
       "      <td>14</td>\n",
       "      <td>flag_FR</td>\n",
       "      <td>-9.957347e-04</td>\n",
       "      <td>9.957347e-04</td>\n",
       "    </tr>\n",
       "    <tr>\n",
       "      <td>9</td>\n",
       "      <td>gameStyle_marioBros3</td>\n",
       "      <td>-7.601220e-04</td>\n",
       "      <td>7.601220e-04</td>\n",
       "    </tr>\n",
       "    <tr>\n",
       "      <td>12</td>\n",
       "      <td>flag_CA</td>\n",
       "      <td>-5.062937e-04</td>\n",
       "      <td>5.062937e-04</td>\n",
       "    </tr>\n",
       "    <tr>\n",
       "      <td>4</td>\n",
       "      <td>courses_by_maker</td>\n",
       "      <td>4.098261e-04</td>\n",
       "      <td>4.098261e-04</td>\n",
       "    </tr>\n",
       "    <tr>\n",
       "      <td>8</td>\n",
       "      <td>difficulty_superExpert</td>\n",
       "      <td>-3.990646e-04</td>\n",
       "      <td>3.990646e-04</td>\n",
       "    </tr>\n",
       "    <tr>\n",
       "      <td>6</td>\n",
       "      <td>difficulty_expert</td>\n",
       "      <td>-1.448894e-04</td>\n",
       "      <td>1.448894e-04</td>\n",
       "    </tr>\n",
       "    <tr>\n",
       "      <td>0</td>\n",
       "      <td>stars</td>\n",
       "      <td>4.234684e-05</td>\n",
       "      <td>4.234684e-05</td>\n",
       "    </tr>\n",
       "    <tr>\n",
       "      <td>3</td>\n",
       "      <td>clearRate</td>\n",
       "      <td>-3.135832e-05</td>\n",
       "      <td>3.135832e-05</td>\n",
       "    </tr>\n",
       "    <tr>\n",
       "      <td>10</td>\n",
       "      <td>gameStyle_marioBrosU</td>\n",
       "      <td>-1.175398e-05</td>\n",
       "      <td>1.175398e-05</td>\n",
       "    </tr>\n",
       "    <tr>\n",
       "      <td>1</td>\n",
       "      <td>players</td>\n",
       "      <td>-2.302960e-06</td>\n",
       "      <td>2.302960e-06</td>\n",
       "    </tr>\n",
       "    <tr>\n",
       "      <td>5</td>\n",
       "      <td>normalized_age</td>\n",
       "      <td>-7.264553e-07</td>\n",
       "      <td>7.264553e-07</td>\n",
       "    </tr>\n",
       "    <tr>\n",
       "      <td>2</td>\n",
       "      <td>attempts</td>\n",
       "      <td>4.159730e-09</td>\n",
       "      <td>4.159730e-09</td>\n",
       "    </tr>\n",
       "  </tbody>\n",
       "</table>\n",
       "</div>"
      ],
      "text/plain": [
       "                   est_int         coefs     abs_coefs\n",
       "13                 flag_DE  2.746550e-03  2.746550e-03\n",
       "11    gameStyle_marioWorld -1.697140e-03  1.697140e-03\n",
       "7        difficulty_normal -1.329622e-03  1.329622e-03\n",
       "14                 flag_FR -9.957347e-04  9.957347e-04\n",
       "9     gameStyle_marioBros3 -7.601220e-04  7.601220e-04\n",
       "12                 flag_CA -5.062937e-04  5.062937e-04\n",
       "4         courses_by_maker  4.098261e-04  4.098261e-04\n",
       "8   difficulty_superExpert -3.990646e-04  3.990646e-04\n",
       "6        difficulty_expert -1.448894e-04  1.448894e-04\n",
       "0                    stars  4.234684e-05  4.234684e-05\n",
       "3                clearRate -3.135832e-05  3.135832e-05\n",
       "10    gameStyle_marioBrosU -1.175398e-05  1.175398e-05\n",
       "1                  players -2.302960e-06  2.302960e-06\n",
       "5           normalized_age -7.264553e-07  7.264553e-07\n",
       "2                 attempts  4.159730e-09  4.159730e-09"
      ]
     },
     "execution_count": 25,
     "metadata": {},
     "output_type": "execute_result"
    }
   ],
   "source": [
    "coef_tweets_df = coef_weights(lm_tweets, lm_tweets.coef_, X_tweets_train)\n",
    "\n",
    "#A quick look at the top results\n",
    "coef_tweets_df.head(20)"
   ]
  },
  {
   "cell_type": "markdown",
   "metadata": {},
   "source": [
    "## Are stars and tweets driven by the same level characteristics?"
   ]
  },
  {
   "cell_type": "markdown",
   "metadata": {},
   "source": [
    "The coefficients we got for the tweets model are much smaller and - considering our R squared - to be interpreted with caution. But already the fact that the almost same set of predictors yielded such a different outcome in terms of predictive power tells us that *whether a course gets shared on Twitter* is likely driven by other factors (and probably also mechanisms, i.e. a different model altogether) than the number of stars it receives.\n",
    "The few factors, they seem to share are:\n",
    "\n",
    "1. Courses from German creators receive more tweets.\n",
    "2. Easy courses are more popular.\n",
    "3. More seasoned creators seem to be more likely to produce 'twitterworthy' courses."
   ]
  },
  {
   "cell_type": "markdown",
   "metadata": {},
   "source": [
    "## Are there differences across countries in the most played game styles?"
   ]
  },
  {
   "cell_type": "markdown",
   "metadata": {},
   "source": [
    "Another interesting question to ask is whether the creators from the four countries in our dataset prefer the same game styles and difficulties, or if different countries might have different tastes when it comes to these factors. Using the number of courses created for each category and the sum of stars given in each category, we can check if there are differences for creators, as well as players."
   ]
  },
  {
   "cell_type": "code",
   "execution_count": 77,
   "metadata": {},
   "outputs": [],
   "source": [
    "def barplot_country_course_count(df, country_labels, metrics):\n",
    "    for country in country_labels:\n",
    "        subset_df = df[df.flag == country]\n",
    "        nrows = subset_df.shape[0]\n",
    "        \n",
    "        fig, axs = plt.subplots(1, len(metrics))\n",
    "        fig.suptitle(country)\n",
    "        fig.set_figwidth(8)\n",
    "    \n",
    "        for metric, ax in zip(metrics,axs.flat):\n",
    "            count = subset_df[metric].value_counts()/nrows\n",
    "            ax.barh(count.index, count.values)\n",
    "            for tick in ax.get_yticklabels():\n",
    "                tick.set_rotation(45)\n",
    "                \n",
    "            fig.tight_layout(pad=2.0)"
   ]
  },
  {
   "cell_type": "markdown",
   "metadata": {},
   "source": [
    "### Which levels are the most popular among makers?"
   ]
  },
  {
   "cell_type": "code",
   "execution_count": 27,
   "metadata": {},
   "outputs": [
    {
     "data": {
      "image/png": "[encoded data removed]",
      "text/plain": [
       "<Figure size 576x288 with 2 Axes>"
      ]
     },
     "metadata": {
      "needs_background": "light"
     },
     "output_type": "display_data"
    },
    {
     "data": {
      "image/png": "[encoded data removed]",
      "text/plain": [
       "<Figure size 576x288 with 2 Axes>"
      ]
     },
     "metadata": {
      "needs_background": "light"
     },
     "output_type": "display_data"
    },
    {
     "data": {
      "image/png": "[encoded data removed]",
      "text/plain": [
       "<Figure size 576x288 with 2 Axes>"
      ]
     },
     "metadata": {
      "needs_background": "light"
     },
     "output_type": "display_data"
    },
    {
     "data": {
      "image/png": "[encoded data removed]",
      "text/plain": [
       "<Figure size 576x288 with 2 Axes>"
      ]
     },
     "metadata": {
      "needs_background": "light"
     },
     "output_type": "display_data"
    }
   ],
   "source": [
    "countries = list(course_complete_df.flag.unique())\n",
    "barplot_country_course_count(course_complete_df, countries,\n",
    "                            ['difficulty', 'gameStyle'])"
   ]
  },
  {
   "cell_type": "markdown",
   "metadata": {},
   "source": [
    "Both the most popular difficulty (`normal`) and style (`marioBrosU`) are the same across all countries. Differences only occur for ranks 2 and 3. interestingly, they seem to occur at the same time, i.e. countries with `expert` levels being the second-most popular, also have `marioWorld` as the second-most popular course style."
   ]
  },
  {
   "cell_type": "markdown",
   "metadata": {},
   "source": [
    "### Which levels are the most popular among players?"
   ]
  },
  {
   "cell_type": "markdown",
   "metadata": {},
   "source": [
    "To answer this question, we can have a look at the number of plays and the number of likes per category split by countries. For ease of display, we limit ourselves to the \"creator countries\" from above."
   ]
  },
  {
   "cell_type": "code",
   "execution_count": 40,
   "metadata": {},
   "outputs": [],
   "source": [
    "likes_df = df_dict['likes']\n",
    "plays_df = df_dict['plays']\n",
    "course_info_df = course_complete_df[['id', 'difficulty', 'gameStyle']]"
   ]
  },
  {
   "cell_type": "code",
   "execution_count": 60,
   "metadata": {},
   "outputs": [],
   "source": [
    "likes_country_df = pd.merge(likes_df, \n",
    "                            players_df[players_df.flag.isin(countries)], \n",
    "                            left_on = 'player',\n",
    "                            right_on = 'player_id').\\\n",
    "                            drop(columns = ['player_id', 'catch']).\\\n",
    "                            drop_duplicates()\n",
    "\n",
    "complete_likes_df = pd.merge(likes_country_df,\n",
    "                            course_info_df,\n",
    "                            on = 'id')"
   ]
  },
  {
   "cell_type": "markdown",
   "metadata": {},
   "source": [
    "#### In terms of stars"
   ]
  },
  {
   "cell_type": "code",
   "execution_count": 79,
   "metadata": {},
   "outputs": [
    {
     "data": {
      "image/png": "[encoded data removed]",
      "text/plain": [
       "<Figure size 576x288 with 2 Axes>"
      ]
     },
     "metadata": {
      "needs_background": "light"
     },
     "output_type": "display_data"
    },
    {
     "data": {
      "image/png": "[encoded data removed]",
      "text/plain": [
       "<Figure size 576x288 with 2 Axes>"
      ]
     },
     "metadata": {
      "needs_background": "light"
     },
     "output_type": "display_data"
    },
    {
     "data": {
      "image/png": "[encoded data removed]",
      "text/plain": [
       "<Figure size 576x288 with 2 Axes>"
      ]
     },
     "metadata": {
      "needs_background": "light"
     },
     "output_type": "display_data"
    },
    {
     "data": {
      "image/png": "[encoded data removed]",
      "text/plain": [
       "<Figure size 576x288 with 2 Axes>"
      ]
     },
     "metadata": {
      "needs_background": "light"
     },
     "output_type": "display_data"
    }
   ],
   "source": [
    "barplot_country_course_count(complete_likes_df, countries, ['difficulty', 'gameStyle'])"
   ]
  },
  {
   "cell_type": "markdown",
   "metadata": {},
   "source": [
    "#### In terms of plays"
   ]
  },
  {
   "cell_type": "code",
   "execution_count": 80,
   "metadata": {},
   "outputs": [
    {
     "data": {
      "image/png": "[encoded data removed]",
      "text/plain": [
       "<Figure size 576x288 with 2 Axes>"
      ]
     },
     "metadata": {
      "needs_background": "light"
     },
     "output_type": "display_data"
    },
    {
     "data": {
      "image/png": "[encoded data removed]",
      "text/plain": [
       "<Figure size 576x288 with 2 Axes>"
      ]
     },
     "metadata": {
      "needs_background": "light"
     },
     "output_type": "display_data"
    },
    {
     "data": {
      "image/png": "[encoded data removed]",
      "text/plain": [
       "<Figure size 576x288 with 2 Axes>"
      ]
     },
     "metadata": {
      "needs_background": "light"
     },
     "output_type": "display_data"
    },
    {
     "data": {
      "image/png": "[encoded data removed]",
      "text/plain": [
       "<Figure size 576x288 with 2 Axes>"
      ]
     },
     "metadata": {
      "needs_background": "light"
     },
     "output_type": "display_data"
    }
   ],
   "source": [
    "plays_country_df = pd.merge(plays_df, \n",
    "                            players_df[players_df.flag.isin(countries)], \n",
    "                            left_on = 'player',\n",
    "                            right_on = 'player_id').\\\n",
    "                            drop(columns = ['player_id', 'catch']).\\\n",
    "                            drop_duplicates()\n",
    "\n",
    "complete_plays_df = pd.merge(plays_country_df,\n",
    "                            course_info_df,\n",
    "                            on = 'id')\n",
    "\n",
    "barplot_country_course_count(complete_plays_df, countries, ['difficulty', 'gameStyle'])"
   ]
  },
  {
   "cell_type": "markdown",
   "metadata": {},
   "source": [
    "Interestingly, preferences for certain level characteristics seem to be very homogenous across countries and also between what creators build and players play. Difference usually occur as single cases (such as `marioWorld` receiving the highest proportion of likes among Brazilian players) or between ranks two. However, it seems that `normal` prevails as the most popular difficulty and `marioBrosU` the most popular style.\n",
    "\n",
    "But doesn't that conflict with what we concluded from our regression coefficients earlier? Not really... This is why the clause *everything else being equal* (*ceteris paribus* if you want to show off at fancy tea parties) is so important. \n",
    "If we have two levels that are exactly the same in all aspects except for their styles, our model will expect the one that is a classic `marioBros` level to have a slightly higher number of stars _on average_. This just shows, how tricky it can be to draw conclusions  by considering only isolated descriptive statistics."
   ]
  },
  {
   "cell_type": "markdown",
   "metadata": {},
   "source": [
    "## Main Conclusions"
   ]
  },
  {
   "cell_type": "markdown",
   "metadata": {},
   "source": [
    "1. If you want to increase the expected stars for your level, you should consider the results of our regression model: making a level graded `easy` in the classic `marioBros` game style can increase the number of stars you can expect. Obviously, releasing a \"tweetable\" level also helps boost the number of likes. The coefficients also suggest that you can expect the number of likes to increase the more levels you release.\n",
    "\n",
    "2. It is not as straightforward to predict how to make your level achieve more tweets. The predictors with the highest coefficients are similar to the model used to predict the number of stars, but the low predidctive power of those coefficient suggests that we are missing critical variables or that a simple linear model does not explain the data well enough. But if our coefficients are to be trusted, the conclusions in point 1. still hold true.\n",
    "\n",
    "3. Looking at `difficulty` and `gameStyle` in isolation, most plays and stars go to `normal` levels in the style of `marioBrosU`. The same is true for the popularity of these characteristics among creators, implying that these raw numbers might just come from there being more levels with said characteristics. So these descriptive statistics alone are probably not as good a guide as the linear model."
   ]
  }
 ],
 "metadata": {
  "kernelspec": {
   "display_name": "Python 3",
   "language": "python",
   "name": "python3"
  },
  "language_info": {
   "codemirror_mode": {
    "name": "ipython",
    "version": 3
   },
   "file_extension": ".py",
   "mimetype": "text/x-python",
   "name": "python",
   "nbconvert_exporter": "python",
   "pygments_lexer": "ipython3",
   "version": "3.8.0"
  }
 },
 "nbformat": 4,
 "nbformat_minor": 4
}
